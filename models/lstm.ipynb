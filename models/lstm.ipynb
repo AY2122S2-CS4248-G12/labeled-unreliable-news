{
 "cells": [
  {
   "cell_type": "markdown",
   "metadata": {},
   "source": [
    "Reference: https://github.com/minhkhang1795/FakeNews_RNN/blob/master/FakeNews_RNN.ipynb"
   ]
  },
  {
   "cell_type": "markdown",
   "metadata": {},
   "source": [
    "# Imports"
   ]
  },
  {
   "cell_type": "code",
   "execution_count": null,
   "metadata": {},
   "outputs": [],
   "source": [
    "import sys\n",
    "import time\n",
    "from typing import List\n",
    "\n",
    "import torch\n",
    "from torch import nn\n",
    "from torchtext.vocab import build_vocab_from_iterator\n",
    "from torch.utils.data import DataLoader\n",
    "from torch.utils.data.dataset import random_split, Subset\n",
    "\n",
    "device = torch.device(\"cuda\" if torch.cuda.is_available() else \"cpu\")\n",
    "\n",
    "import matplotlib.pyplot as plt\n",
    "\n",
    "# Change system path to base directory.\n",
    "sys.path.append(\"..\")\n",
    "from datasets.fake_news_detection import FakeNewsDetectionDataset\n",
    "from preprocessing.preprocessor import Preprocessor\n",
    "\n",
    "# Manual set seed for reproducible results\n",
    "torch.manual_seed(1)"
   ]
  },
  {
   "cell_type": "markdown",
   "metadata": {},
   "source": [
    "## Read & process dataset"
   ]
  },
  {
   "cell_type": "code",
   "execution_count": null,
   "metadata": {},
   "outputs": [],
   "source": [
    "# Control which linguistic preprocessing steps should run.\n",
    "preprocessor = Preprocessor(perform_case_folding=True,\n",
    "                            remove_stop_words=False,\n",
    "                            remove_punctuation=False,\n",
    "                            perform_lemmatization=False,\n",
    "                            perform_stemming=False)\n",
    "\n",
    "# Generate training and test datasets.\n",
    "training_dataset = FakeNewsDetectionDataset(\"../raw_data/fulltrain.csv\", transform=preprocessor.process, trim_length=200)\n",
    "test_dataset = FakeNewsDetectionDataset(\"../raw_data/balancedtest.csv\", transform=preprocessor.process, trim_length=200)"
   ]
  },
  {
   "cell_type": "markdown",
   "metadata": {},
   "source": [
    "## Prepare data processing pipelines, generate data batch and iterator"
   ]
  },
  {
   "cell_type": "code",
   "execution_count": null,
   "metadata": {},
   "outputs": [],
   "source": [
    "def yield_tokens(dataset: FakeNewsDetectionDataset) -> List[str]:\n",
    "    for i in range(len(dataset)):\n",
    "        sentence, _ = dataset[i]\n",
    "        yield sentence\n",
    "\n",
    "vocab = build_vocab_from_iterator(yield_tokens(training_dataset), specials=[\"<unk>\"])\n",
    "vocab.set_default_index(vocab[\"<unk>\"])\n",
    "text_pipeline = lambda x: vocab(x)\n",
    "\n",
    "seq_length=200\n",
    "\n",
    "def pad_sequence(text):\n",
    "    seq = np.zeros(seq_length, dtype=int)\n",
    "    seq[-len(text):] = np.array(text_pipeline(text))[0:seq_length]\n",
    "    return seq\n",
    "\n",
    "def collate_batch(batch):\n",
    "    label_list, text_list = [], []\n",
    "    for text, label in batch:\n",
    "        label_list.append(label)\n",
    "        processed_text = torch.tensor(pad_sequence(text), dtype=torch.int64)\n",
    "        text_list.append(processed_text)\n",
    "    label_list = torch.tensor(label_list, dtype=torch.int64)\n",
    "    # Pads inputs vectors to be of same length (seq_length)\n",
    "    text_list = nn.utils.rnn.pad_sequence(text_list, batch_first=True, padding_value=0)\n",
    "    # Label list size: [batch_size]\n",
    "    # Text list size: [batch_size, seq_length]\n",
    "    return label_list.to(device), text_list.to(device)"
   ]
  },
  {
   "cell_type": "markdown",
   "metadata": {},
   "source": [
    "## Training"
   ]
  },
  {
   "cell_type": "markdown",
   "metadata": {},
   "source": [
    "### Model class"
   ]
  },
  {
   "cell_type": "code",
   "execution_count": null,
   "metadata": {},
   "outputs": [],
   "source": [
    "class TextClassificationModel(nn.Module):\n",
    "\n",
    "    def __init__(self, vocab_size, embedding_dim, hidden_dim, n_layers):\n",
    "        super(TextClassificationModel, self).__init__()\n",
    "\n",
    "        self.n_layers = n_layers\n",
    "        self.hidden_dim = hidden_dim\n",
    "\n",
    "        self.embedding = nn.Embedding(vocab_size, embedding_dim)\n",
    "        self.lstm = nn.LSTM(embedding_dim, hidden_dim, n_layers,\n",
    "                            batch_first=True)\n",
    "        self.fc = nn.Linear(hidden_dim, 4)\n",
    "\n",
    "    def init_hidden(self, batch_size):\n",
    "        # Note that batch_size must be passed in from the training loop\n",
    "        # to handle the case where the last batch has fewer data.\n",
    "        # hidden state and cell state size:\n",
    "        # [num_layers, batch_size, hidden_size]\n",
    "        weight = next(self.parameters()).data\n",
    "\n",
    "        return (weight.new(self.n_layers, batch_size, self.hidden_dim).zero_().to(device),\n",
    "                weight.new(self.n_layers, batch_size, self.hidden_dim).zero_().to(device))\n",
    "\n",
    "    def forward(self, text, hidden):\n",
    "        # Embedding vector size: [batch_size, seq_length, embed_dim]\n",
    "        embeds = self.embedding(text)\n",
    "        # LSTM output size: [batch_size, seq_length, num_layers*hidden_size]\n",
    "        lstm_out, hidden = self.lstm(embeds, hidden)\n",
    "\n",
    "        # LSTM final state vector size: [batch_size, num_layers*hidden_size]\n",
    "        final_state = lstm_out[:,-1,:]\n",
    "\n",
    "        # Linear layer output size: [batch_size, 4]\n",
    "        output = self.fc(final_state)\n",
    "        return output, hidden\n"
   ]
  },
  {
   "cell_type": "code",
   "execution_count": null,
   "metadata": {},
   "outputs": [],
   "source": [
    "# Hyperparameters\n",
    "vocab_size = len(vocab)\n",
    "embedding_dim = 84\n",
    "hidden_dim = 128\n",
    "n_layers = 1\n",
    "EPOCHS = 10 # epoch\n",
    "LR = 0.001  # learning rate\n",
    "BATCH_SIZE = 64 # batch size for training\n",
    "\n",
    "model = TextClassificationModel(vocab_size, embedding_dim, hidden_dim, n_layers)\n",
    "model.to(device)\n",
    "    \n",
    "print(model)\n",
    "\n",
    "criterion = torch.nn.CrossEntropyLoss()\n",
    "optimizer = torch.optim.Adam(model.parameters(), lr=LR)\n",
    "scheduler = torch.optim.lr_scheduler.StepLR(optimizer, 1.0, gamma=0.1)"
   ]
  },
  {
   "cell_type": "markdown",
   "metadata": {},
   "source": [
    "### Define train/eval functions, split training data"
   ]
  },
  {
   "cell_type": "code",
   "execution_count": null,
   "metadata": {},
   "outputs": [],
   "source": [
    "def train(dataloader):\n",
    "    # initialize hidden state\n",
    "    h = model.init_hidden(BATCH_SIZE)\n",
    "\n",
    "    model.train()\n",
    "    total_acc, total_count, train_loss = 0, 0, 0\n",
    "    log_interval = 500\n",
    "    start_time = time.time()\n",
    "\n",
    "    for idx, (label, text) in enumerate(dataloader):\n",
    "        # Creating new variables for the hidden state, otherwise\n",
    "        # we'd backprop through the entire training history\n",
    "        h = tuple([each.data for each in h])\n",
    "\n",
    "        # zero accumulated gradients\n",
    "        model.zero_grad()\n",
    "        optimizer.zero_grad()\n",
    "\n",
    "        # get the output from the model\n",
    "        output, h = model(text, h)\n",
    "\n",
    "        # calculate the loss and perform backprop\n",
    "        loss = criterion(output, label)\n",
    "        loss.backward()\n",
    "        # `clip_grad_norm` helps prevent the exploding gradient problem in RNNs / LSTMs.\n",
    "        nn.utils.clip_grad_norm_(model.parameters(), 5)\n",
    "        optimizer.step()\n",
    "        # update training loss\n",
    "        train_loss += loss.item()*text.size(0)\n",
    "\n",
    "        if idx % log_interval == 0 and idx > 0:\n",
    "            elapsed = time.time() - start_time\n",
    "            print('| epoch {:3d} | {:5d}/{:5d} batches | loss {:8.3f}'\n",
    "                  '| accuracy {:8.3f}'.format(epoch, idx, len(dataloader),\n",
    "                                              train_loss, total_acc/total_count))\n",
    "            total_acc, total_count = 0, 0\n",
    "            start_time = time.time()\n",
    "\n",
    "def evaluate(dataloader):\n",
    "    # initialize hidden state\n",
    "    val_h = model.init_hidden(BATCH_SIZE)\n",
    "    model.eval()\n",
    "    total_acc, total_count = 0, 0\n",
    "    tp, fp, fn = [0] * 4, [0] * 4, [0] * 4\n",
    "\n",
    "    with torch.no_grad():\n",
    "        for idx, (label, text) in enumerate(dataloader):\n",
    "            # Creating new variables for the hidden state, otherwise\n",
    "            # we'd backprop through the entire training history\n",
    "            val_h = tuple([each.data for each in val_h])\n",
    "            output, val_h = model(text, val_h)\n",
    "\n",
    "            predicted_label = output.argmax(1)\n",
    "            total_acc += (predicted_label == label).sum().item()\n",
    "            total_count += label.size(0)\n",
    "\n",
    "            for lab in range(4):\n",
    "                tp[lab] += torch.mul(predicted_label == lab, label == lab).sum().item()\n",
    "                fp[lab] += torch.mul(predicted_label == lab, label != lab).sum().item()\n",
    "                fn[lab] += torch.mul(predicted_label != lab, label == lab).sum().item()\n",
    "\n",
    "    f1s = [tp[lab] / (tp[lab] + 0.5 * (fp[lab] + fn[lab])) for lab in range(4)]\n",
    "    return total_acc/total_count, f1s[0], f1s[1], f1s[2], f1s[3]\n",
    "    \n",
    "criterion = torch.nn.CrossEntropyLoss()\n",
    "optimizer = torch.optim.Adam(model.parameters(), lr=LR)\n",
    "scheduler = torch.optim.lr_scheduler.StepLR(optimizer, 1.0, gamma=0.1)\n",
    "total_accu = None\n",
    "num_train = int(len(training_dataset) * 0.95)\n",
    "split_train_: Subset[FakeNewsDetectionDataset]\n",
    "split_valid_: Subset[FakeNewsDetectionDataset]\n",
    "split_train_, split_valid_ = random_split(training_dataset, [num_train, len(training_dataset) - num_train])\n",
    "\n",
    "train_dataloader = DataLoader(split_train_, batch_size=BATCH_SIZE,\n",
    "                              shuffle=True, collate_fn=collate_batch)\n",
    "valid_dataloader = DataLoader(split_valid_, batch_size=BATCH_SIZE,\n",
    "                              shuffle=True, collate_fn=collate_batch)\n",
    "test_dataloader = DataLoader(test_dataset, batch_size=BATCH_SIZE,\n",
    "                             shuffle=True, collate_fn=collate_batch)"
   ]
  },
  {
   "cell_type": "markdown",
   "metadata": {},
   "source": [
    "### Training Loop"
   ]
  },
  {
   "cell_type": "code",
   "execution_count": null,
   "metadata": {},
   "outputs": [],
   "source": [
    "for epoch in range(1, EPOCHS + 1):\n",
    "    epoch_start_time = time.time()\n",
    "    train(train_dataloader)\n",
    "    accu_val, f1_0, f1_1, f1_2, f1_3 = evaluate(valid_dataloader)\n",
    "    if total_accu is not None and total_accu > accu_val:\n",
    "      scheduler.step()\n",
    "    else:\n",
    "       total_accu = accu_val\n",
    "    print('-' * 59)\n",
    "    print('| end of epoch {:3d} | time: {:5.2f}s | valid accuracy {:8.3f} '\n",
    "          '| f1 of class 0 {:8.3f} | f1 of class 1 {:8.3f} | f1 of class 2 {:8.3f} '\n",
    "          '| f1 of class 3 {:8.3f} | '.format(epoch,\n",
    "                                              time.time() - epoch_start_time,\n",
    "                                              accu_val, f1_0, f1_1, f1_2, f1_3))\n",
    "    print('-' * 59)"
   ]
  },
  {
   "cell_type": "code",
   "execution_count": null,
   "metadata": {},
   "outputs": [],
   "source": [
    "# Save trained model\n",
    "torch.save(model.state_dict(), '../trained_models/LSTMModel-%sepoch.pt' % EPOCHS)"
   ]
  },
  {
   "cell_type": "code",
   "execution_count": null,
   "metadata": {},
   "outputs": [],
   "source": [
    "# Load saved model to skip training\n",
    "model.load_state_dict(torch.load('../trained_models/LSTMModel-%sepoch.pt' % EPOCHS))"
   ]
  },
  {
   "cell_type": "markdown",
   "metadata": {},
   "source": [
    "### Evaluating on test set"
   ]
  },
  {
   "cell_type": "code",
   "execution_count": null,
   "metadata": {
    "pycharm": {
     "name": "#%%\n"
    }
   },
   "outputs": [],
   "source": [
    "print('Checking the results of test dataset.')\n",
    "accu_test, f1_0_test, f1_1_test, f1_2_test, f1_3_test = evaluate(test_dataloader)\n",
    "print('test accuracy {:8.3f} | test f1 of class 0 {:8.3f} | test f1 of class 1 {:8.3f} '\n",
    "      '| test f1 of class 2 {:8.3f} | test f1 of class 3 {:8.3f} | '.format(accu_test, f1_0_test, f1_1_test, f1_2_test, f1_3_test))"
   ]
  },
  {
   "cell_type": "markdown",
   "metadata": {},
   "source": [
    "### Checking relationships between labels for documents"
   ]
  },
  {
   "cell_type": "code",
   "execution_count": null,
   "metadata": {},
   "outputs": [],
   "source": [
    "CATEGORIES = { 1: 'Satire', 2: 'Hoax', 3: 'Propaganda', 4: 'Reliable news' }\n",
    "\n",
    "reliable, hoax, satire, propaganda = [], [], [], []\n",
    "\n",
    "all_documents_dataloader = DataLoader(training_dataset, batch_size=1,\n",
    "                             shuffle=True, collate_fn=collate_batch)\n",
    "\n",
    "with torch.no_grad():\n",
    "    for idx, (label, text) in enumerate(all_documents_dataloader):\n",
    "        model.reset_h_c(text.size()[0])\n",
    "        output = model(text)\n",
    "        # Copy the tensor from GPU to CPU in order to convert to numpy array.\n",
    "        arr = output.cpu().numpy()[0]\n",
    "        reliable.append(arr[3])\n",
    "        hoax.append(arr[1])\n",
    "        satire.append(arr[0])\n",
    "        propaganda.append(arr[2])"
   ]
  },
  {
   "cell_type": "code",
   "execution_count": null,
   "metadata": {},
   "outputs": [],
   "source": [
    "plt.scatter(reliable, hoax)\n",
    "plt.xlabel('reliable')\n",
    "plt.ylabel('hoax')\n",
    "plt.title('Reliable vs hoax - documents')\n",
    "plt.show()\n",
    "\n",
    "plt.scatter(reliable, satire)\n",
    "plt.xlabel('reliable')\n",
    "plt.ylabel('satire')\n",
    "plt.title('Reliable vs satire - documents')\n",
    "plt.show()\n",
    "\n",
    "plt.scatter(reliable, propaganda)\n",
    "plt.title('Reliable vs propaganda - documents')\n",
    "plt.xlabel('reliable')\n",
    "plt.ylabel('propaganda')\n",
    "plt.show()\n",
    "\n",
    "plt.scatter(hoax, propaganda)\n",
    "plt.title('Hoax vs propaganda - documents')\n",
    "plt.xlabel('hoax')\n",
    "plt.ylabel('propaganda')\n",
    "plt.show()\n",
    "\n",
    "plt.scatter(hoax, satire)\n",
    "plt.title('Hoax vs satire - documents')\n",
    "plt.xlabel('hoax')\n",
    "plt.ylabel('satire')\n",
    "plt.show()\n",
    "\n",
    "plt.scatter(satire, propaganda)\n",
    "plt.title('Satire vs propaganda - documents')\n",
    "plt.xlabel('satire')\n",
    "plt.ylabel('propaganda')\n",
    "plt.show()"
   ]
  },
  {
   "cell_type": "markdown",
   "metadata": {},
   "source": [
    "### Checking relationships between labels for words"
   ]
  },
  {
   "cell_type": "code",
   "execution_count": null,
   "metadata": {},
   "outputs": [],
   "source": [
    "words = vocab.get_itos()\n",
    "\n",
    "def collate_word(word):\n",
    "    text_list, offsets = [], [0]\n",
    "    processed_text = torch.tensor(text_pipeline(word), dtype=torch.int64)\n",
    "    text_list.append(processed_text)\n",
    "    offsets.append(processed_text.size(0))\n",
    "    offsets = torch.tensor(offsets[:-1]).cumsum(dim=0)\n",
    "    text_list = torch.cat(text_list)\n",
    "    return text_list.to(device), offsets.to(device)\n",
    "\n",
    "reliable, hoax, satire, propaganda = [], [], [], []\n",
    "\n",
    "with torch.no_grad():\n",
    "    for word in words:\n",
    "        text, _ = collate_word(list(word))\n",
    "        output = model(text)\n",
    "        # Copy the tensor from GPU to CPU in order to convert to numpy array.\n",
    "        arr = output.cpu().numpy()[0]\n",
    "        reliable.append(arr[3])\n",
    "        hoax.append(arr[1])\n",
    "        satire.append(arr[0])\n",
    "        propaganda.append(arr[2])"
   ]
  },
  {
   "cell_type": "code",
   "execution_count": null,
   "metadata": {},
   "outputs": [],
   "source": [
    "plt.scatter(reliable, hoax)\n",
    "plt.xlabel('reliable')\n",
    "plt.ylabel('hoax')\n",
    "plt.title('Reliable vs hoax - words')\n",
    "plt.show()\n",
    "\n",
    "plt.scatter(reliable, satire)\n",
    "plt.xlabel('reliable')\n",
    "plt.ylabel('satire')\n",
    "plt.title('Reliable vs satire - words')\n",
    "plt.show()\n",
    "\n",
    "plt.scatter(reliable, propaganda)\n",
    "plt.title('Reliable vs propaganda - words')\n",
    "plt.xlabel('reliable')\n",
    "plt.ylabel('propaganda')\n",
    "plt.show()\n",
    "\n",
    "plt.scatter(hoax, propaganda)\n",
    "plt.title('Hoax vs propaganda - words')\n",
    "plt.xlabel('hoax')\n",
    "plt.ylabel('propaganda')\n",
    "plt.show()\n",
    "\n",
    "plt.scatter(hoax, satire)\n",
    "plt.title('Hoax vs satire - words')\n",
    "plt.xlabel('hoax')\n",
    "plt.ylabel('satire')\n",
    "plt.show()\n",
    "\n",
    "plt.scatter(satire, propaganda)\n",
    "plt.title('Satire vs propaganda - words')\n",
    "plt.xlabel('satire')\n",
    "plt.ylabel('propaganda')\n",
    "plt.show()"
   ]
  }
 ],
 "metadata": {
  "interpreter": {
   "hash": "deec0f29eca4b53231a713f95efdc7f4bf0194b49cce288dd1117a9c6b23f040"
  },
  "kernelspec": {
   "display_name": "Python 3.8.12 ('cs4248-proj')",
   "language": "python",
   "name": "python3"
  },
  "language_info": {
   "codemirror_mode": {
    "name": "ipython",
    "version": 3
   },
   "file_extension": ".py",
   "mimetype": "text/x-python",
   "name": "python",
   "nbconvert_exporter": "python",
   "pygments_lexer": "ipython3",
   "version": "3.9.7"
  },
  "orig_nbformat": 4
 },
 "nbformat": 4,
 "nbformat_minor": 2
}
