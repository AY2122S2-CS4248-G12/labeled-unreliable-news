{
 "cells": [
  {
   "cell_type": "markdown",
   "metadata": {},
   "source": [
    "Reference: https://pytorch.org/tutorials/beginner/text_sentiment_ngrams_tutorial.html"
   ]
  },
  {
   "cell_type": "markdown",
   "metadata": {},
   "source": [
    "# Imports"
   ]
  },
  {
   "cell_type": "code",
   "execution_count": 8,
   "metadata": {},
   "outputs": [
    {
     "data": {
      "text/plain": [
       "<torch._C.Generator at 0x7fb3212ad990>"
      ]
     },
     "execution_count": 8,
     "metadata": {},
     "output_type": "execute_result"
    }
   ],
   "source": [
    "import _csv\n",
    "import csv\n",
    "import sys\n",
    "from typing import List\n",
    "import time\n",
    "\n",
    "import torch\n",
    "from torch import nn\n",
    "from torchtext.vocab import build_vocab_from_iterator\n",
    "from torch.utils.data import DataLoader\n",
    "from torch.utils.data.dataset import random_split\n",
    "from torchtext.data.functional import to_map_style_dataset\n",
    "\n",
    "device = torch.device(\"cuda\" if torch.cuda.is_available() else \"cpu\")\n",
    "\n",
    "# Change system path to base directory.\n",
    "sys.path.append(\"..\")\n",
    "from preprocessing.preprocessor import Preprocessor\n",
    "\n",
    "# Manual set seed for reproducible results\n",
    "torch.manual_seed(1)"
   ]
  },
  {
   "cell_type": "markdown",
   "metadata": {},
   "source": [
    "## Read dataset"
   ]
  },
  {
   "cell_type": "code",
   "execution_count": 9,
   "metadata": {},
   "outputs": [],
   "source": [
    "csv.field_size_limit(2147483647)\n",
    "\n",
    "def parse_dataset(path: str, limit: int = 0):\n",
    "    data_list = []\n",
    "\n",
    "    with open(path) as dataset:\n",
    "        reader: _csv.reader = csv.reader(dataset)\n",
    "        row: List[str]\n",
    "        i = 0\n",
    "        for row in reader:\n",
    "            if limit > 0 and i == limit: break\n",
    "            label: str = row[0]\n",
    "            document: str = row[1]\n",
    "            data_list.append((label, document))\n",
    "            i += 1\n",
    "    return data_list\n",
    "\n",
    "train_data = parse_dataset('../raw_data/fulltrain.csv')\n",
    "test_data = parse_dataset('../raw_data/balancedtest.csv')"
   ]
  },
  {
   "cell_type": "markdown",
   "metadata": {},
   "source": [
    "## Prepare data processing pipelines, generate data batch and iterator"
   ]
  },
  {
   "cell_type": "code",
   "execution_count": 10,
   "metadata": {},
   "outputs": [],
   "source": [
    "# Control which linguistic preprocessing steps should run.\n",
    "preprocessor = Preprocessor(perform_case_folding=True,\n",
    "                            remove_stop_words=False,\n",
    "                            remove_punctuation=False,\n",
    "                            perform_lemmatization=False,\n",
    "                            perform_stemming=False)\n",
    "\n",
    "def yield_tokens(data_iter):\n",
    "    for _, text in data_iter:\n",
    "        yield preprocessor.process(text)\n",
    "\n",
    "vocab = build_vocab_from_iterator(yield_tokens(train_data), specials=[\"<unk>\"])\n",
    "vocab.set_default_index(vocab[\"<unk>\"])\n",
    "text_pipeline = lambda x: vocab(preprocessor.process(x))\n",
    "label_pipeline = lambda x: int(x) - 1\n",
    "\n",
    "def collate_batch(batch):\n",
    "    label_list, text_list, offsets = [], [], [0]\n",
    "    for (_label, _text) in batch:\n",
    "        label_list.append(label_pipeline(_label))\n",
    "        processed_text = torch.tensor(text_pipeline(_text), dtype=torch.int64)\n",
    "        text_list.append(processed_text)\n",
    "        offsets.append(processed_text.size(0))\n",
    "    label_list = torch.tensor(label_list, dtype=torch.int64)\n",
    "    offsets = torch.tensor(offsets[:-1]).cumsum(dim=0)\n",
    "    text_list = torch.cat(text_list)\n",
    "    return label_list.to(device), text_list.to(device), offsets.to(device)\n"
   ]
  },
  {
   "cell_type": "markdown",
   "metadata": {},
   "source": [
    "## Training"
   ]
  },
  {
   "cell_type": "markdown",
   "metadata": {},
   "source": [
    "### Model class"
   ]
  },
  {
   "cell_type": "code",
   "execution_count": 16,
   "metadata": {},
   "outputs": [],
   "source": [
    "hidden_size = 128\n",
    "\n",
    "class TextClassificationModel(nn.Module):\n",
    "\n",
    "    def __init__(self, vocab_size, embed_dim):\n",
    "        super(TextClassificationModel, self).__init__()\n",
    "\n",
    "        self.embedding = nn.EmbeddingBag(vocab_size, embed_dim)\n",
    "        self.lstm = nn.LSTM(input_size=embed_dim,\n",
    "                            hidden_size=hidden_size,\n",
    "                            num_layers=1,\n",
    "                            batch_first=True,\n",
    "                            bidirectional=False)\n",
    "\n",
    "        self.fc = nn.Linear(hidden_size, 4)\n",
    "        self.init_weights()\n",
    "        self.reset_h_c()\n",
    "\n",
    "    def init_weights(self):\n",
    "        initrange = 0.5\n",
    "        self.embedding.weight.data.uniform_(-initrange, initrange)\n",
    "        self.fc.weight.data.uniform_(-initrange, initrange)\n",
    "        self.fc.bias.data.zero_()\n",
    "\n",
    "    def reset_h_c(self):\n",
    "        self.h = torch.zeros(1, hidden_size)\n",
    "        self.c = torch.zeros(1, hidden_size)\n",
    "        self.h = self.h.to(device)\n",
    "        self.c = self.c.to(device)\n",
    "\n",
    "    def forward(self, text, offsets):   \n",
    "        self.h = self.h.detach()\n",
    "        self.c = self.c.detach()\n",
    "        self.h = self.h.requires_grad_()\n",
    "        self.c = self.c.requires_grad_()     \n",
    "        g_seq                    =  self.embedding( text, offsets )  \n",
    "        h_seq, (self.h, self.c)  =  self.lstm( g_seq , (self.h, self.c) )      \n",
    "        score_seq                =  self.fc( h_seq )        \n",
    "        return score_seq\n"
   ]
  },
  {
   "cell_type": "markdown",
   "metadata": {},
   "source": [
    "### Training Loop"
   ]
  },
  {
   "cell_type": "code",
   "execution_count": 18,
   "metadata": {},
   "outputs": [
    {
     "name": "stdout",
     "output_type": "stream",
     "text": [
      "| epoch   1 |   500/  726 batches | accuracy    0.909\n",
      "-----------------------------------------------------------\n",
      "| end of epoch   1 | time: 202.97s | valid accuracy    0.972 \n",
      "-----------------------------------------------------------\n",
      "| epoch   2 |   500/  726 batches | accuracy    0.994\n",
      "-----------------------------------------------------------\n",
      "| end of epoch   2 | time: 203.69s | valid accuracy    0.970 \n",
      "-----------------------------------------------------------\n",
      "| epoch   3 |   500/  726 batches | accuracy    0.999\n",
      "-----------------------------------------------------------\n",
      "| end of epoch   3 | time: 203.47s | valid accuracy    0.975 \n",
      "-----------------------------------------------------------\n",
      "| epoch   4 |   500/  726 batches | accuracy    1.000\n",
      "-----------------------------------------------------------\n",
      "| end of epoch   4 | time: 203.24s | valid accuracy    0.979 \n",
      "-----------------------------------------------------------\n",
      "| epoch   5 |   500/  726 batches | accuracy    1.000\n",
      "-----------------------------------------------------------\n",
      "| end of epoch   5 | time: 203.94s | valid accuracy    0.978 \n",
      "-----------------------------------------------------------\n",
      "| epoch   6 |   500/  726 batches | accuracy    1.000\n",
      "-----------------------------------------------------------\n",
      "| end of epoch   6 | time: 203.30s | valid accuracy    0.976 \n",
      "-----------------------------------------------------------\n",
      "| epoch   7 |   500/  726 batches | accuracy    1.000\n",
      "-----------------------------------------------------------\n",
      "| end of epoch   7 | time: 200.56s | valid accuracy    0.978 \n",
      "-----------------------------------------------------------\n",
      "| epoch   8 |   500/  726 batches | accuracy    1.000\n",
      "-----------------------------------------------------------\n",
      "| end of epoch   8 | time: 200.52s | valid accuracy    0.976 \n",
      "-----------------------------------------------------------\n",
      "| epoch   9 |   500/  726 batches | accuracy    1.000\n",
      "-----------------------------------------------------------\n",
      "| end of epoch   9 | time: 201.04s | valid accuracy    0.975 \n",
      "-----------------------------------------------------------\n",
      "| epoch  10 |   500/  726 batches | accuracy    1.000\n",
      "-----------------------------------------------------------\n",
      "| end of epoch  10 | time: 201.27s | valid accuracy    0.976 \n",
      "-----------------------------------------------------------\n"
     ]
    }
   ],
   "source": [
    "vocab_size = len(vocab)\n",
    "emsize = 64\n",
    "model = TextClassificationModel(vocab_size, emsize).to(device)\n",
    "\n",
    "# Hyperparameters\n",
    "EPOCHS = 10 # epoch\n",
    "LR = 0.005  # learning rate\n",
    "BATCH_SIZE = 64 # batch size for training\n",
    "\n",
    "def train(dataloader):\n",
    "    model.train()\n",
    "    total_acc, total_count = 0, 0\n",
    "    log_interval = 500\n",
    "    start_time = time.time()\n",
    "\n",
    "    model.reset_h_c()\n",
    "\n",
    "    for idx, (label, text, offsets) in enumerate(dataloader):\n",
    "        optimizer.zero_grad()\n",
    "        predicted_label = model(text, offsets)\n",
    "        loss = criterion(predicted_label, label)\n",
    "        loss.backward()\n",
    "        torch.nn.utils.clip_grad_norm_(model.parameters(), 0.1)\n",
    "        optimizer.step()\n",
    "        total_acc += (predicted_label.argmax(1) == label).sum().item()\n",
    "        total_count += label.size(0)\n",
    "        if idx % log_interval == 0 and idx > 0:\n",
    "            elapsed = time.time() - start_time\n",
    "            print('| epoch {:3d} | {:5d}/{:5d} batches '\n",
    "                  '| accuracy {:8.3f}'.format(epoch, idx, len(dataloader),\n",
    "                                              total_acc/total_count))\n",
    "            total_acc, total_count = 0, 0\n",
    "            start_time = time.time()\n",
    "\n",
    "def evaluate(dataloader):\n",
    "    model.eval()\n",
    "    total_acc, total_count = 0, 0\n",
    "\n",
    "    with torch.no_grad():\n",
    "        for idx, (label, text, offsets) in enumerate(dataloader):\n",
    "            predicted_label = model(text, offsets)\n",
    "            loss = criterion(predicted_label, label)\n",
    "            total_acc += (predicted_label.argmax(1) == label).sum().item()\n",
    "            total_count += label.size(0)\n",
    "    return total_acc/total_count\n",
    "\n",
    "criterion = torch.nn.CrossEntropyLoss()\n",
    "optimizer = torch.optim.Adam(model.parameters(), lr=LR)\n",
    "scheduler = torch.optim.lr_scheduler.StepLR(optimizer, 1.0, gamma=0.1)\n",
    "total_accu = None\n",
    "train_dataset = to_map_style_dataset(train_data)\n",
    "test_dataset = to_map_style_dataset(test_data)\n",
    "num_train = int(len(train_dataset) * 0.95)\n",
    "split_train_, split_valid_ = \\\n",
    "    random_split(train_dataset, [num_train, len(train_dataset) - num_train])\n",
    "\n",
    "train_dataloader = DataLoader(split_train_, batch_size=BATCH_SIZE,\n",
    "                              shuffle=True, collate_fn=collate_batch)\n",
    "valid_dataloader = DataLoader(split_valid_, batch_size=BATCH_SIZE,\n",
    "                              shuffle=True, collate_fn=collate_batch)\n",
    "test_dataloader = DataLoader(test_dataset, batch_size=BATCH_SIZE,\n",
    "                             shuffle=True, collate_fn=collate_batch)\n",
    "\n",
    "for epoch in range(1, EPOCHS + 1):\n",
    "    epoch_start_time = time.time()\n",
    "    train(train_dataloader)\n",
    "    accu_val = evaluate(valid_dataloader)\n",
    "    if total_accu is not None and total_accu > accu_val:\n",
    "      scheduler.step()\n",
    "    else:\n",
    "       total_accu = accu_val\n",
    "    print('-' * 59)\n",
    "    print('| end of epoch {:3d} | time: {:5.2f}s | '\n",
    "          'valid accuracy {:8.3f} '.format(epoch,\n",
    "                                           time.time() - epoch_start_time,\n",
    "                                           accu_val))\n",
    "    print('-' * 59)"
   ]
  },
  {
   "cell_type": "markdown",
   "metadata": {},
   "source": [
    "### Evaluating on test set"
   ]
  },
  {
   "cell_type": "code",
   "execution_count": 19,
   "metadata": {},
   "outputs": [
    {
     "name": "stdout",
     "output_type": "stream",
     "text": [
      "Checking the results of test dataset.\n",
      "test accuracy    0.644\n"
     ]
    }
   ],
   "source": [
    "print('Checking the results of test dataset.')\n",
    "accu_test = evaluate(test_dataloader)\n",
    "print('test accuracy {:8.3f}'.format(accu_test))"
   ]
  }
 ],
 "metadata": {
  "interpreter": {
   "hash": "deec0f29eca4b53231a713f95efdc7f4bf0194b49cce288dd1117a9c6b23f040"
  },
  "kernelspec": {
   "display_name": "Python 3.8.12 ('cs4248-proj')",
   "language": "python",
   "name": "python3"
  },
  "language_info": {
   "codemirror_mode": {
    "name": "ipython",
    "version": 3
   },
   "file_extension": ".py",
   "mimetype": "text/x-python",
   "name": "python",
   "nbconvert_exporter": "python",
   "pygments_lexer": "ipython3",
   "version": "3.9.7"
  },
  "orig_nbformat": 4
 },
 "nbformat": 4,
 "nbformat_minor": 2
}
