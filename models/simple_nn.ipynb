{
 "cells": [
  {
   "cell_type": "markdown",
   "metadata": {},
   "source": [
    "Reference: https://pytorch.org/tutorials/beginner/text_sentiment_ngrams_tutorial.html"
   ]
  },
  {
   "cell_type": "markdown",
   "metadata": {},
   "source": [
    "# Imports"
   ]
  },
  {
   "cell_type": "code",
   "execution_count": null,
   "metadata": {},
   "outputs": [],
   "source": [
    "import sys\n",
    "from typing import List\n",
    "import time\n",
    "\n",
    "import torch\n",
    "from torch import nn\n",
    "from torchtext.vocab import build_vocab_from_iterator\n",
    "from torch.utils.data import DataLoader\n",
    "from torch.utils.data.dataset import random_split, Subset\n",
    "\n",
    "import numpy as np\n",
    "import matplotlib.pyplot as plt\n",
    "import heapq\n",
    "\n",
    "device = torch.device(\"cuda\" if torch.cuda.is_available() else \"cpu\")\n",
    "\n",
    "# Change system path to base directory.\n",
    "sys.path.append(\"..\")\n",
    "from preprocessing.preprocessor import Preprocessor\n",
    "from datasets.fake_news_detection import FakeNewsDetectionDataset\n",
    "\n",
    "# Manual set seed for reproducible results\n",
    "torch.manual_seed(1)"
   ]
  },
  {
   "cell_type": "markdown",
   "metadata": {
    "collapsed": false,
    "pycharm": {
     "name": "#%% md\n"
    }
   },
   "source": [
    "## Read & process dataset"
   ]
  },
  {
   "cell_type": "code",
   "execution_count": null,
   "metadata": {
    "collapsed": false,
    "pycharm": {
     "name": "#%%\n"
    }
   },
   "outputs": [],
   "source": [
    "# Control which linguistic preprocessing steps should run.\n",
    "preprocessor = Preprocessor(perform_case_folding=False,\n",
    "                            remove_stop_words=False,\n",
    "                            remove_punctuation=False,\n",
    "                            perform_lemmatization=False,\n",
    "                            perform_stemming=False)\n",
    "\n",
    "# Generate training and test datasets.\n",
    "training_dataset = FakeNewsDetectionDataset(\"../raw_data/fulltrain.csv\",\n",
    "        transform=preprocessor.process, target_transform=lambda x: int(x) - 1)\n",
    "test_dataset = FakeNewsDetectionDataset(\"../raw_data/balancedtest.csv\",\n",
    "        transform=preprocessor.process, target_transform=lambda x: int(x) - 1)"
   ]
  },
  {
   "cell_type": "markdown",
   "metadata": {},
   "source": [
    "## Prepare data processing pipelines, generate data batch and iterator"
   ]
  },
  {
   "cell_type": "code",
   "execution_count": null,
   "metadata": {},
   "outputs": [],
   "source": [
    "def yield_tokens(dataset: FakeNewsDetectionDataset) -> List[str]:\n",
    "    for i in range(len(dataset)):\n",
    "        sentence, _ = dataset[i]\n",
    "        yield sentence\n",
    "\n",
    "vocab = build_vocab_from_iterator(yield_tokens(training_dataset), specials=[\"<unk>\"])\n",
    "vocab.set_default_index(vocab[\"<unk>\"])\n",
    "text_pipeline = lambda x: vocab(x)\n",
    "\n",
    "def collate_batch(batch):\n",
    "    label_list, text_list, offsets = [], [], [0]\n",
    "    for text, label in batch:\n",
    "        label_list.append(label)\n",
    "        processed_text = torch.tensor(text_pipeline(text), dtype=torch.int64)\n",
    "        text_list.append(processed_text)\n",
    "        offsets.append(processed_text.size(0))\n",
    "    label_list = torch.tensor(label_list, dtype=torch.int64)\n",
    "    offsets = torch.tensor(offsets[:-1]).cumsum(dim=0)\n",
    "    text_list = torch.cat(text_list)\n",
    "    return label_list.to(device), text_list.to(device), offsets.to(device)"
   ]
  },
  {
   "cell_type": "markdown",
   "metadata": {},
   "source": [
    "## Training"
   ]
  },
  {
   "cell_type": "markdown",
   "metadata": {},
   "source": [
    "### Model class"
   ]
  },
  {
   "cell_type": "code",
   "execution_count": null,
   "metadata": {},
   "outputs": [],
   "source": [
    "class TextClassificationModel(nn.Module):\n",
    "\n",
    "    def __init__(self, vocab_size, embed_dim):\n",
    "        super(TextClassificationModel, self).__init__()\n",
    "        self.embedding = nn.EmbeddingBag(vocab_size, embed_dim)\n",
    "        self.fc = nn.Linear(embed_dim, 4)\n",
    "\n",
    "    def forward(self, text, offsets):\n",
    "        embedded = self.embedding(text, offsets)\n",
    "        return self.fc(embedded)"
   ]
  },
  {
   "cell_type": "markdown",
   "metadata": {},
   "source": [
    "### Define train/eval functions, split training data"
   ]
  },
  {
   "cell_type": "code",
   "execution_count": null,
   "metadata": {},
   "outputs": [],
   "source": [
    "vocab_size = len(vocab)\n",
    "emsize = 64\n",
    "model = TextClassificationModel(vocab_size, emsize).to(device)\n",
    "\n",
    "def train(dataloader):\n",
    "    model.train()\n",
    "    total_acc, total_count = 0, 0\n",
    "    log_interval = 500\n",
    "    start_time = time.time()\n",
    "\n",
    "    for idx, (label, text, offsets) in enumerate(dataloader):\n",
    "        optimizer.zero_grad()\n",
    "        predicted_label = model(text, offsets)\n",
    "        loss = criterion(predicted_label, label)\n",
    "        loss.backward()\n",
    "        torch.nn.utils.clip_grad_norm_(model.parameters(), 0.1)\n",
    "        optimizer.step()\n",
    "        total_acc += (predicted_label.argmax(1) == label).sum().item()\n",
    "        total_count += label.size(0)\n",
    "        if idx % log_interval == 0 and idx > 0:\n",
    "            elapsed = time.time() - start_time\n",
    "            print('| epoch {:3d} | {:5d}/{:5d} batches '\n",
    "                  '| accuracy {:8.3f}'.format(epoch, idx, len(dataloader),\n",
    "                                              total_acc/total_count))\n",
    "            total_acc, total_count = 0, 0\n",
    "            start_time = time.time()\n",
    "\n",
    "def evaluate(dataloader):\n",
    "    model.eval()\n",
    "    total_acc, total_count = 0, 0\n",
    "    tp, fp, fn = [0] * 4, [0] * 4, [0] * 4\n",
    "\n",
    "    with torch.no_grad():\n",
    "        for idx, (label, text, offsets) in enumerate(dataloader):\n",
    "            predicted_label = model(text, offsets).argmax(1)\n",
    "            total_acc += (predicted_label == label).sum().item()\n",
    "            total_count += label.size(0)\n",
    "\n",
    "            for lab in range(4):\n",
    "                tp[lab] += torch.mul(predicted_label == lab, label == lab).sum().item()\n",
    "                fp[lab] += torch.mul(predicted_label == lab, label != lab).sum().item()\n",
    "                fn[lab] += torch.mul(predicted_label != lab, label == lab).sum().item()\n",
    "\n",
    "    f1s = [tp[lab] / (tp[lab] + 0.5 * (fp[lab] + fn[lab])) for lab in range(4)]\n",
    "    return total_acc/total_count, f1s[0], f1s[1], f1s[2], f1s[3], sum(f1s)/4\n",
    "\n",
    "# Hyperparameters\n",
    "EPOCHS = 10 # epoch\n",
    "LR = 0.001  # learning rate\n",
    "BATCH_SIZE = 64 # batch size for training\n",
    "\n",
    "criterion = torch.nn.CrossEntropyLoss()\n",
    "optimizer = torch.optim.Adam(model.parameters(), lr=LR)\n",
    "scheduler = torch.optim.lr_scheduler.StepLR(optimizer, 1.0, gamma=0.1)\n",
    "total_accu = None\n",
    "num_train: int = int(len(training_dataset) * 0.95)\n",
    "split_train_: Subset[FakeNewsDetectionDataset]\n",
    "split_valid_: Subset[FakeNewsDetectionDataset]\n",
    "split_train_, split_valid_ = random_split(training_dataset, [num_train, len(training_dataset) - num_train])\n",
    "\n",
    "train_dataloader = DataLoader(split_train_, batch_size=BATCH_SIZE,\n",
    "                              shuffle=True, collate_fn=collate_batch)\n",
    "valid_dataloader = DataLoader(split_valid_, batch_size=BATCH_SIZE,\n",
    "                              shuffle=True, collate_fn=collate_batch)\n",
    "test_dataloader = DataLoader(test_dataset, batch_size=BATCH_SIZE,\n",
    "                             shuffle=True, collate_fn=collate_batch)"
   ]
  },
  {
   "cell_type": "markdown",
   "metadata": {},
   "source": [
    "### Training Loop"
   ]
  },
  {
   "cell_type": "code",
   "execution_count": null,
   "metadata": {},
   "outputs": [],
   "source": [
    "for epoch in range(1, EPOCHS + 1):\n",
    "    epoch_start_time = time.time()\n",
    "    train(train_dataloader)\n",
    "    accu_val, f1_0, f1_1, f1_2, f1_3, f1_macro = evaluate(valid_dataloader)\n",
    "    if total_accu is not None and total_accu > accu_val:\n",
    "      scheduler.step()\n",
    "    else:\n",
    "       total_accu = accu_val\n",
    "    print('-' * 59)\n",
    "    print('| end of epoch {:3d} | time: {:5.2f}s | valid accuracy {:8.3f} '\n",
    "          '| f1 of class 0 {:8.3f} | f1 of class 1 {:8.3f} | f1 of class 2 {:8.3f} '\n",
    "          '| f1 of class 3 {:8.3f} | macro f1 {:8.3f}'.format(epoch,\n",
    "                                              time.time() - epoch_start_time,\n",
    "                                              accu_val, f1_0, f1_1, f1_2, f1_3, f1_macro))\n",
    "    print('-' * 59)"
   ]
  },
  {
   "cell_type": "code",
   "execution_count": null,
   "metadata": {},
   "outputs": [],
   "source": [
    "# Save trained model\n",
    "torch.save(model.state_dict(), '../trained_models/SNNModel-%sepoch.pt' % EPOCHS)"
   ]
  },
  {
   "cell_type": "code",
   "execution_count": null,
   "metadata": {},
   "outputs": [],
   "source": [
    "# Load saved model to skip training\n",
    "model.load_state_dict(torch.load('../trained_models/SNNModel-%sepoch.pt' % EPOCHS))"
   ]
  },
  {
   "cell_type": "markdown",
   "metadata": {},
   "source": [
    "### Evaluating on test set"
   ]
  },
  {
   "cell_type": "code",
   "execution_count": null,
   "metadata": {
    "pycharm": {
     "name": "#%%\n"
    }
   },
   "outputs": [],
   "source": [
    "print('Checking the results of test dataset.')\n",
    "accu_test, f1_0_test, f1_1_test, f1_2_test, f1_3_test, f1_macro_test = evaluate(test_dataloader)\n",
    "print('test accuracy {:8.3f} | test f1 of class 0 {:8.3f} | test f1 of class 1 {:8.3f} '\n",
    "      '| test f1 of class 2 {:8.3f} | test f1 of class 3 {:8.3f} | test macro f1 {:8.3f}'.format(accu_test, f1_0_test, f1_1_test, f1_2_test, f1_3_test, f1_macro_test))"
   ]
  },
  {
   "cell_type": "markdown",
   "metadata": {},
   "source": [
    "### Checking relationships between labels for documents"
   ]
  },
  {
   "cell_type": "code",
   "execution_count": null,
   "metadata": {},
   "outputs": [],
   "source": [
    "CATEGORIES = { 1: 'Satire', 2: 'Hoax', 3: 'Propaganda', 4: 'Reliable news' }\n",
    "\n",
    "reliable, hoax, satire, propaganda = [], [], [], []\n",
    "\n",
    "all_documents_dataloader = DataLoader(training_dataset, batch_size=1,\n",
    "                             shuffle=True, collate_fn=collate_batch)\n",
    "\n",
    "with torch.no_grad():\n",
    "    for idx, (label, text, offsets) in enumerate(all_documents_dataloader):\n",
    "        output = model(text, offsets)\n",
    "        arr = output.numpy()[0]\n",
    "        reliable.append(arr[3])\n",
    "        hoax.append(arr[1])\n",
    "        satire.append(arr[0])\n",
    "        propaganda.append(arr[2])"
   ]
  },
  {
   "cell_type": "code",
   "execution_count": null,
   "metadata": {},
   "outputs": [],
   "source": [
    "plt.scatter(reliable, hoax)\n",
    "plt.xlabel('reliable')\n",
    "plt.ylabel('hoax')\n",
    "plt.title('Reliable vs hoax - documents')\n",
    "plt.show()\n",
    "\n",
    "plt.scatter(reliable, satire)\n",
    "plt.xlabel('reliable')\n",
    "plt.ylabel('satire')\n",
    "plt.title('Reliable vs satire - documents')\n",
    "plt.show()\n",
    "plt.scatter(reliable, propaganda)\n",
    "plt.title('Reliable vs propaganda - documents')\n",
    "plt.xlabel('reliable')\n",
    "plt.ylabel('propaganda')\n",
    "plt.show()\n",
    "plt.scatter(hoax, propaganda)\n",
    "plt.title('Hoax vs propaganda - documents')\n",
    "plt.xlabel('hoax')\n",
    "plt.ylabel('propaganda')\n",
    "plt.show()\n",
    "plt.scatter(hoax, satire)\n",
    "plt.title('Hoax vs satire - documents')\n",
    "plt.xlabel('hoax')\n",
    "plt.ylabel('satire')\n",
    "plt.show()\n",
    "plt.scatter(satire, propaganda)\n",
    "plt.title('Satire vs propaganda - documents')\n",
    "plt.xlabel('satire')\n",
    "plt.ylabel('propaganda')\n",
    "plt.show()"
   ]
  },
  {
   "cell_type": "markdown",
   "metadata": {},
   "source": [
    "### Checking relationships between labels for words"
   ]
  },
  {
   "cell_type": "code",
   "execution_count": null,
   "metadata": {},
   "outputs": [],
   "source": [
    "words = vocab.get_itos()\n",
    "\n",
    "def collate_word(word):\n",
    "    text_list, offsets = [], [0]\n",
    "    processed_text = torch.tensor(text_pipeline(word), dtype=torch.int64)\n",
    "    text_list.append(processed_text)\n",
    "    offsets.append(processed_text.size(0))\n",
    "    offsets = torch.tensor(offsets[:-1]).cumsum(dim=0)\n",
    "    text_list = torch.cat(text_list)\n",
    "    return text_list.to(device), offsets.to(device)\n",
    "\n",
    "reliable, hoax, satire, propaganda = [], [], [], []\n",
    "\n",
    "with torch.no_grad():\n",
    "    for word in words:\n",
    "        text, offsets = collate_word(list(word))\n",
    "        output = model(text, offsets)\n",
    "        arr = output.numpy()[0]\n",
    "        reliable.append(arr[3])\n",
    "        hoax.append(arr[1])\n",
    "        satire.append(arr[0])\n",
    "        propaganda.append(arr[2])"
   ]
  },
  {
   "cell_type": "code",
   "execution_count": null,
   "metadata": {},
   "outputs": [],
   "source": [
    "plt.scatter(reliable, hoax)\n",
    "plt.xlabel('reliable')\n",
    "plt.ylabel('hoax')\n",
    "plt.title('Reliable vs hoax - words')\n",
    "plt.show()\n",
    "\n",
    "plt.scatter(reliable, satire)\n",
    "plt.xlabel('reliable')\n",
    "plt.ylabel('satire')\n",
    "plt.title('Reliable vs satire - words')\n",
    "plt.show()\n",
    "\n",
    "plt.scatter(reliable, propaganda)\n",
    "plt.title('Reliable vs propaganda - words')\n",
    "plt.xlabel('reliable')\n",
    "plt.ylabel('propaganda')\n",
    "plt.show()\n",
    "\n",
    "plt.scatter(hoax, propaganda)\n",
    "plt.title('Hoax vs propaganda - words')\n",
    "plt.xlabel('hoax')\n",
    "plt.ylabel('propaganda')\n",
    "plt.show()\n",
    "\n",
    "plt.scatter(hoax, satire)\n",
    "plt.title('Hoax vs satire - words')\n",
    "plt.xlabel('hoax')\n",
    "plt.ylabel('satire')\n",
    "plt.show()\n",
    "\n",
    "plt.scatter(satire, propaganda)\n",
    "plt.title('Satire vs propaganda - words')\n",
    "plt.xlabel('satire')\n",
    "plt.ylabel('propaganda')\n",
    "plt.show()"
   ]
  },
  {
   "cell_type": "markdown",
   "metadata": {},
   "source": [
    "### Get word association graph of words that appear most in each category"
   ]
  },
  {
   "cell_type": "code",
   "execution_count": null,
   "metadata": {},
   "outputs": [],
   "source": [
    "document_frequencies = {}\n",
    "for key, value in training_dataset.document_frequencies.items():\n",
    "    df_total = sum(value)\n",
    "    # Can tweak this value\n",
    "    if df_total > 500:\n",
    "        document_frequencies[key] = list(map(lambda x: x / df_total, value))\n",
    "\n",
    "most_reliable_words = heapq.nlargest(20, document_frequencies, key=lambda x: document_frequencies.get(x)[3])\n",
    "most_hoax_words = heapq.nlargest(10, document_frequencies, key=lambda x: document_frequencies.get(x)[1])\n",
    "most_satire_words = heapq.nlargest(30, document_frequencies, key=lambda x: document_frequencies.get(x)[0])\n",
    "most_propaganda_words = heapq.nlargest(30, document_frequencies, key=lambda x: document_frequencies.get(x)[2])\n",
    "\n",
    "# 10 hand picked words for each category\n",
    "reliable_egs = ['taipei', 'taiwanese', 'taiwan', 'yuan', 'premier', 'beijing', 'copyright', 'province', 'ministry', 'chinese']\n",
    "hoax_egs = ['commented', 'trumps', 'liberals', 'michelle', 'donald', 'trump', 'obamas', 'clintons', 'racist', 'muslims']\n",
    "satire_egs = ['fucking', 'shit', 'quarterback', 'nfl', 'resident', 'baseball', 'reportedly', 'longtime', 'confirmed', 'noting']\n",
    "propaganda_egs = ['globalist', 'turbeville', 'codex', 'alimentarius', 'sheeple', 'prepper', 'anti-media', 'attribution', 'anglo-american', 'conspiracies']"
   ]
  },
  {
   "cell_type": "markdown",
   "metadata": {},
   "source": [
    "### Generate word graph"
   ]
  },
  {
   "cell_type": "code",
   "execution_count": null,
   "metadata": {},
   "outputs": [],
   "source": [
    "concat = np.concatenate([reliable_egs, hoax_egs, satire_egs, propaganda_egs])\n",
    "\n",
    "x, y = [], []\n",
    "\n",
    "with torch.no_grad():\n",
    "    for word in concat:\n",
    "        text, offsets = collate_word(list(word))\n",
    "        output = model(text, offsets)\n",
    "        arr = output.numpy()[0]\n",
    "        x.append(arr[3] - arr[1])\n",
    "        y.append(arr[0] - arr[2])\n",
    "\n",
    "plt.scatter(x, y)\n",
    "plt.title('Distribution of words')\n",
    "plt.xlabel('Left - hoax, Right - reliable')\n",
    "plt.ylabel('Top - propaganda, Bottom - satire')\n",
    "for idx, label in enumerate(concat):\n",
    "    plt.annotate(label, (x[idx], y[idx]))\n",
    "plt.show()"
   ]
  }
 ],
 "metadata": {
  "interpreter": {
   "hash": "c2eaf7b8ccf8ee346b293f7ad0dad5841c7c7ed9a6a2dac5ba49cd4570080174"
  },
  "kernelspec": {
   "display_name": "Python 3.8.10 64-bit ('3.8.10')",
   "language": "python",
   "name": "python3"
  },
  "language_info": {
   "codemirror_mode": {
    "name": "ipython",
    "version": 3
   },
   "file_extension": ".py",
   "mimetype": "text/x-python",
   "name": "python",
   "nbconvert_exporter": "python",
   "pygments_lexer": "ipython3",
   "version": "3.8.12"
  },
  "orig_nbformat": 4
 },
 "nbformat": 4,
 "nbformat_minor": 2
}
