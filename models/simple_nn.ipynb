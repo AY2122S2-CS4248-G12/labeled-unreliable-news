{
 "cells": [
  {
   "cell_type": "markdown",
   "metadata": {},
   "source": [
    "# Imports"
   ]
  },
  {
   "cell_type": "code",
   "execution_count": null,
   "metadata": {},
   "outputs": [],
   "source": [
    "import _csv\n",
    "import csv\n",
    "import sys\n",
    "from typing import List\n",
    "import torch\n",
    "import numpy as np\n",
    "import functools\n",
    "\n",
    "import gensim.downloader\n",
    "word_vectors = gensim.downloader.load('glove-wiki-gigaword-50')\n",
    "\n",
    "# Change system path to base directory.\n",
    "sys.path.append(\"..\")\n",
    "from preprocessing.preprocessor import Preprocessor"
   ]
  },
  {
   "cell_type": "markdown",
   "metadata": {},
   "source": [
    "## Preprocess"
   ]
  },
  {
   "cell_type": "code",
   "execution_count": null,
   "metadata": {},
   "outputs": [],
   "source": [
    "# Control which linguistic preprocessing steps should run.\n",
    "preprocessor = Preprocessor(perform_case_folding=True,\n",
    "                            remove_stop_words=True,\n",
    "                            remove_punctuation=False,\n",
    "                            perform_lemmatization=False,\n",
    "                            perform_stemming=False)\n",
    "\n",
    "def parse_dataset(path: str, limit: int = 0):\n",
    "    token_lists: List[List[str]] = []\n",
    "    labels: List[int] = []\n",
    "\n",
    "    with open(path) as dataset:\n",
    "        reader: _csv.reader = csv.reader(dataset)\n",
    "        row: List[str]\n",
    "        i = 0\n",
    "        for row in reader:\n",
    "            if limit > 0 and i == limit: break\n",
    "            label: int = row[0]\n",
    "            labels.append(int(label) - 1)\n",
    "            document: str = row[1]\n",
    "            token_list: List[str] = preprocessor.process(document)\n",
    "            token_lists.append(token_list)\n",
    "            i += 1\n",
    "    return (token_lists, labels)\n",
    "\n",
    "token_lists, labels = parse_dataset('../raw_data/fulltrain.csv', 10)\n",
    "test_token_lists, test_labels = parse_dataset('../raw_data/balancedtest.csv', 10)"
   ]
  },
  {
   "cell_type": "markdown",
   "metadata": {},
   "source": [
    "## Feature Extraction"
   ]
  },
  {
   "cell_type": "code",
   "execution_count": null,
   "metadata": {},
   "outputs": [],
   "source": [
    "def extract_features(token_lists):\n",
    "    inputs: List[List[float]] = []\n",
    "    for token_list in token_lists:\n",
    "        vectors = list(map(lambda token : word_vectors[token] if token in word_vectors else [0.0] * 50, token_list))\n",
    "        vector = list(functools.reduce(lambda v1, v2 : map(sum, zip(v1, v2)), vectors))\n",
    "        inputs.append(vector)\n",
    "    return inputs\n",
    "\n",
    "inputs = extract_features(token_lists)\n",
    "test_inputs = extract_features(test_token_lists)\n"
   ]
  },
  {
   "cell_type": "markdown",
   "metadata": {},
   "source": [
    "## Training"
   ]
  },
  {
   "cell_type": "markdown",
   "metadata": {},
   "source": [
    "### Model class"
   ]
  },
  {
   "cell_type": "code",
   "execution_count": null,
   "metadata": {},
   "outputs": [],
   "source": [
    "class Simple_NN(torch.nn.Module):\n",
    "    def __init__(self, input_size: int):\n",
    "        super(Simple_NN , self).__init__()\n",
    "        self.lin1 = torch.nn.Linear(input_size, 20)\n",
    "        self.lin2 = torch.nn.Linear(20, 4)\n",
    "\n",
    "    def forward(self, input: torch.Tensor):\n",
    "        x = self.lin1(input)\n",
    "        x = torch.nn.functional.relu(x)\n",
    "        x = self.lin2(x)\n",
    "        return x"
   ]
  },
  {
   "cell_type": "markdown",
   "metadata": {},
   "source": [
    "### Training Loop"
   ]
  },
  {
   "cell_type": "code",
   "execution_count": null,
   "metadata": {},
   "outputs": [],
   "source": [
    "inputs = torch.tensor(inputs)\n",
    "dataset_size = inputs.size(dim = 0)\n",
    "input_size = inputs.size(dim = 1)\n",
    "\n",
    "net = Simple_NN(input_size)\n",
    "criterion = torch.nn.CrossEntropyLoss()\n",
    "batch_size = 1000\n",
    "learning_rate = 0.01\n",
    "\n",
    "for epoch in range(10):\n",
    "\n",
    "    # Update learning rate here\n",
    "\n",
    "    optimizer = torch.optim.Adam(net.parameters(), lr=learning_rate)\n",
    "    shuffled_indices = torch.randperm(1) # Change to number of data\n",
    "\n",
    "    for i in range(0, dataset_size):\n",
    "        optimizer.zero_grad()\n",
    "        \n",
    "        input = inputs[i]\n",
    "        label = labels[i]\n",
    "\n",
    "        scores = net(input.float())\n",
    "        loss = criterion(scores, torch.tensor(label)) \n",
    "        loss.backward()\n",
    "\n",
    "        optimizer.step()\n",
    "\n",
    "def get_outputs(net, inputs):\n",
    "    outputs: List[int] = []\n",
    "    with torch.no_grad():\n",
    "        for input in inputs:\n",
    "            outputs.append(np.argmax(net(input.float()).numpy()))\n",
    "    return outputs\n",
    "\n",
    "def eval_accuracy(predictions, answers):\n",
    "    size = len(predictions)\n",
    "    num_correct = 0\n",
    "    for i in range(0, size):\n",
    "        predicted = predictions[i]\n",
    "        actual = answers[i]\n",
    "        if predicted == actual:\n",
    "            num_correct += 1\n",
    "    return num_correct / size\n",
    "\n",
    "outputs = get_outputs(net, inputs)\n",
    "print(eval_accuracy(outputs, labels))\n"
   ]
  },
  {
   "cell_type": "markdown",
   "metadata": {},
   "source": [
    "### Evaluating on test set"
   ]
  },
  {
   "cell_type": "code",
   "execution_count": null,
   "metadata": {},
   "outputs": [],
   "source": [
    "test_outputs = get_outputs(net, torch.tensor(test_inputs))\n",
    "print(eval_accuracy(test_outputs, test_labels))"
   ]
  }
 ],
 "metadata": {
  "interpreter": {
   "hash": "deec0f29eca4b53231a713f95efdc7f4bf0194b49cce288dd1117a9c6b23f040"
  },
  "kernelspec": {
   "display_name": "Python 3.8.12 ('cs4248-proj')",
   "language": "python",
   "name": "python3"
  },
  "language_info": {
   "codemirror_mode": {
    "name": "ipython",
    "version": 3
   },
   "file_extension": ".py",
   "mimetype": "text/x-python",
   "name": "python",
   "nbconvert_exporter": "python",
   "pygments_lexer": "ipython3",
   "version": "3.9.7"
  },
  "orig_nbformat": 4
 },
 "nbformat": 4,
 "nbformat_minor": 2
}
