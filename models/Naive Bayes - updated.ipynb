{
 "cells": [
  {
   "cell_type": "markdown",
   "id": "2aede3ea",
   "metadata": {},
   "source": [
    "## Imports"
   ]
  },
  {
   "cell_type": "code",
   "execution_count": 46,
   "id": "c283b4dd",
   "metadata": {},
   "outputs": [],
   "source": [
    "import pandas as pd\n",
    "import numpy as np\n",
    "import re\n",
    "from sklearn import preprocessing\n",
    "from sklearn.naive_bayes import MultinomialNB\n",
    "from nltk.stem import WordNetLemmatizer\n",
    "from nltk.stem.porter import PorterStemmer\n",
    "from sklearn.model_selection import train_test_split\n",
    "from sklearn import metrics\n",
    "from sklearn.metrics import f1_score\n",
    "from sklearn.feature_extraction.text import TfidfVectorizer\n",
    "from sklearn.linear_model import LogisticRegression\n",
    "from sklearn.feature_extraction.text import CountVectorizer"
   ]
  },
  {
   "cell_type": "markdown",
   "id": "6fc96211",
   "metadata": {},
   "source": [
    "## Read test and train datasets"
   ]
  },
  {
   "cell_type": "code",
   "execution_count": 15,
   "id": "58e0b068",
   "metadata": {},
   "outputs": [
    {
     "name": "stdout",
     "output_type": "stream",
     "text": [
      "   Labels                                               News\n",
      "0       1  A little less than a decade ago, hockey fans w...\n",
      "1       1  The writers of the HBO series The Sopranos too...\n",
      "2       1  Despite claims from the TV news outlet to offe...\n",
      "3       1  After receiving 'subpar' service and experienc...\n",
      "4       1  After watching his beloved Seattle Mariners pr...\n",
      "   Labels                                               News\n",
      "0       1  When so many actors seem content to churn out ...\n",
      "1       1   In what football insiders are calling an unex...\n",
      "2       1  In a freak accident following Game 3 of the N....\n",
      "3       1  North Koreas official news agency announced to...\n",
      "4       1  The former Alaska Governor Sarah Palin would b...\n"
     ]
    }
   ],
   "source": [
    "train = pd.read_csv('../raw_data/fulltrain.csv', header=None)\n",
    "test = pd.read_csv('../raw_data/balancedtest.csv', header=None)\n",
    "train.columns=['Labels', 'News']\n",
    "test.columns=['Labels', 'News']\n",
    "print(train.head())\n",
    "print(test.head())"
   ]
  },
  {
   "cell_type": "code",
   "execution_count": 16,
   "id": "a56e77c0",
   "metadata": {},
   "outputs": [
    {
     "name": "stdout",
     "output_type": "stream",
     "text": [
      "3    17870\n",
      "1    14047\n",
      "4     9995\n",
      "2     6942\n",
      "Name: Labels, dtype: int64\n"
     ]
    },
    {
     "data": {
      "text/plain": [
       "<AxesSubplot:title={'center':'Distribution of train labels'}>"
      ]
     },
     "execution_count": 16,
     "metadata": {},
     "output_type": "execute_result"
    },
    {
     "data": {
      "image/png": "[encoded data removed]",
      "text/plain": [
       "<Figure size 432x288 with 1 Axes>"
      ]
     },
     "metadata": {
      "needs_background": "light"
     },
     "output_type": "display_data"
    }
   ],
   "source": [
    "print(train['Labels'].value_counts())\n",
    "train['Labels'].value_counts().plot(kind = 'bar', title = 'Distribution of train labels')\n",
    "##Imbalanced dataset"
   ]
  },
  {
   "cell_type": "code",
   "execution_count": 17,
   "id": "24dd112f",
   "metadata": {},
   "outputs": [
    {
     "name": "stdout",
     "output_type": "stream",
     "text": [
      "1    750\n",
      "2    750\n",
      "3    750\n",
      "4    750\n",
      "Name: Labels, dtype: int64\n"
     ]
    },
    {
     "data": {
      "text/plain": [
       "<AxesSubplot:title={'center':'Distribution of test labels'}>"
      ]
     },
     "execution_count": 17,
     "metadata": {},
     "output_type": "execute_result"
    },
    {
     "data": {
      "image/png": "[encoded data removed]",
      "text/plain": [
       "<Figure size 432x288 with 1 Axes>"
      ]
     },
     "metadata": {
      "needs_background": "light"
     },
     "output_type": "display_data"
    }
   ],
   "source": [
    "print(test['Labels'].value_counts())\n",
    "test['Labels'].value_counts().plot(kind = 'bar', title = 'Distribution of test labels')"
   ]
  },
  {
   "cell_type": "markdown",
   "id": "ab9d3fa0",
   "metadata": {},
   "source": [
    "## Write simple preprocessor"
   ]
  },
  {
   "cell_type": "code",
   "execution_count": 18,
   "id": "808be671",
   "metadata": {},
   "outputs": [],
   "source": [
    "##For some reason couldnt import the preprocessor from the other folder. Idk if it's a Jupiter notebook thing\n",
    "import contractions\n",
    "import string\n",
    "\n",
    "from nltk import pos_tag\n",
    "from nltk.corpus import stopwords\n",
    "from nltk.tokenize import WhitespaceTokenizer\n",
    "\n",
    "whitespace_tokenizer = WhitespaceTokenizer()\n",
    "\n",
    "stopwords = list(stopwords.words('english'))\n",
    "\n",
    "\n",
    "def preprocess_text(s, remove_stopwords=True, fix_contractions=True, remove_punctuation=True,\n",
    "                    tokenizer=whitespace_tokenizer, stemmer=None, lemmatizer=None, lowercase=True):\n",
    "    # Throw error if both stemmer and lemmatizer are not None\n",
    "    if stemmer is not None and lemmatizer is not None:\n",
    "        raise ValueError(\"Stemmer and Lemmatizer cannot both be not None\")\n",
    "\n",
    "    # Tokenize with default tokenizer\n",
    "    token_list = tokenizer.tokenize(s)\n",
    "\n",
    "    # Fix contractions\n",
    "    if fix_contractions:\n",
    "        new_token_list = []\n",
    "        for token in token_list:\n",
    "            new_token = contractions.fix(token)\n",
    "            if (len(new_token.split()) == 2):\n",
    "                new_token_list.append(new_token.split()[0])\n",
    "                new_token_list.append(new_token.split()[1])\n",
    "            else:\n",
    "                new_token_list.append(new_token)\n",
    "        token_list = new_token_list\n",
    "\n",
    "    # Stem or lemmatize if not None\n",
    "    if stemmer is not None:\n",
    "        for idx, token in enumerate(token_list):\n",
    "            token_list[idx] = stemmer.stem(token)\n",
    "    elif lemmatizer is not None:\n",
    "        # Pos tagger to tag all tokens\n",
    "        pos_tag_list = pos_tag(token_list)\n",
    "        for idx, (token, tag) in enumerate(pos_tag_list):\n",
    "            tag_simple = tag[0].lower()\n",
    "            if tag_simple in ['n', 'v', 'j']:\n",
    "                word_type = tag_simple.replace('j', 'a')\n",
    "            else:\n",
    "                word_type = 'n'\n",
    "            lemmatized_token = lemmatizer.lemmatize(token, pos=word_type)\n",
    "            token_list[idx] = lemmatized_token\n",
    "\n",
    "    # Convert all tokens to lowercase if True\n",
    "    if lowercase:\n",
    "        token_list = [token.lower() for token in token_list]\n",
    "\n",
    "    # Remove all stopwords if True\n",
    "    if remove_stopwords:\n",
    "        token_list = [token for token in token_list if not token in stopwords]\n",
    "\n",
    "    # Remove all punctuation marks if True\n",
    "    if remove_punctuation:\n",
    "        token_list = [''.join(c for c in s if c not in string.punctuation) for s in token_list]\n",
    "        token_list = [token for token in token_list if len(token) > 0]\n",
    "\n",
    "    #return token_list\n",
    "    return ' '.join(token_list)"
   ]
  },
  {
   "cell_type": "markdown",
   "id": "0f3fe426",
   "metadata": {},
   "source": [
    "## All permutations of preprocessing"
   ]
  },
  {
   "cell_type": "code",
   "execution_count": 21,
   "id": "a318f79a",
   "metadata": {},
   "outputs": [],
   "source": [
    "x_train_stop = train['News'].apply(lambda x : preprocess_text(x, remove_stopwords=True, fix_contractions=False, remove_punctuation=False,\n",
    "                    tokenizer=whitespace_tokenizer))\n",
    "x_test_stop = test['News'].apply(lambda x : preprocess_text(x, remove_stopwords=True, fix_contractions=False, remove_punctuation=False,\n",
    "                    tokenizer=whitespace_tokenizer))\n",
    "x_train_con = train['News'].apply(lambda x : preprocess_text(x, remove_stopwords=False, fix_contractions=True, remove_punctuation=False,\n",
    "                    tokenizer=whitespace_tokenizer))\n",
    "x_test_con = test['News'].apply(lambda x : preprocess_text(x, remove_stopwords=False, fix_contractions=True, remove_punctuation=False,\n",
    "                    tokenizer=whitespace_tokenizer))\n",
    "x_train_punc = train['News'].apply(lambda x : preprocess_text(x, remove_stopwords=False, fix_contractions=False, remove_punctuation=True,\n",
    "                    tokenizer=whitespace_tokenizer))\n",
    "x_test_punc = test['News'].apply(lambda x : preprocess_text(x, remove_stopwords=False, fix_contractions=False, remove_punctuation=True,\n",
    "                    tokenizer=whitespace_tokenizer))\n",
    "x_train_stop_con = train['News'].apply(lambda x : preprocess_text(x, remove_stopwords=True, fix_contractions=True, remove_punctuation=False,\n",
    "                    tokenizer=whitespace_tokenizer))\n",
    "x_test_stop_con = test['News'].apply(lambda x : preprocess_text(x, remove_stopwords=True, fix_contractions=True, remove_punctuation=False,\n",
    "                    tokenizer=whitespace_tokenizer))\n",
    "x_train_stop_punc = train['News'].apply(lambda x : preprocess_text(x, remove_stopwords=True, fix_contractions=False, remove_punctuation=True,\n",
    "                    tokenizer=whitespace_tokenizer))\n",
    "x_test_stop_punc = test['News'].apply(lambda x : preprocess_text(x, remove_stopwords=True, fix_contractions=False, remove_punctuation=True,\n",
    "                    tokenizer=whitespace_tokenizer))\n",
    "x_train_con_punc = train['News'].apply(lambda x : preprocess_text(x, remove_stopwords=False, fix_contractions=True, remove_punctuation=True,\n",
    "                    tokenizer=whitespace_tokenizer))\n",
    "x_test_con_punc = test['News'].apply(lambda x : preprocess_text(x, remove_stopwords=False, fix_contractions=True, remove_punctuation=True,\n",
    "                    tokenizer=whitespace_tokenizer))\n",
    "x_train_stop_con_punc = train['News'].apply(lambda x : preprocess_text(x, remove_stopwords=True, fix_contractions=True, remove_punctuation=True,\n",
    "                    tokenizer=whitespace_tokenizer))\n",
    "x_test_stop_con_punc = test['News'].apply(lambda x : preprocess_text(x, remove_stopwords=True, fix_contractions=True, remove_punctuation=True,\n",
    "                    tokenizer=whitespace_tokenizer))\n",
    "x_train_none = train['News'].apply(lambda x : preprocess_text(x, remove_stopwords=False, fix_contractions=False, remove_punctuation=False,\n",
    "                    tokenizer=whitespace_tokenizer))\n",
    "x_test_none = test['News'].apply(lambda x : preprocess_text(x, remove_stopwords=False, fix_contractions=False, remove_punctuation=False,\n",
    "                    tokenizer=whitespace_tokenizer))"
   ]
  },
  {
   "cell_type": "code",
   "execution_count": 22,
   "id": "8c37426d",
   "metadata": {},
   "outputs": [],
   "source": [
    "porter_stemmer = PorterStemmer()\n",
    "wordnet_lemmatizer = WordNetLemmatizer()\n",
    "x_train_con_lemma = train['News'].apply(lambda x : preprocess_text(x, remove_stopwords=False, fix_contractions=True, remove_punctuation=False,\n",
    "                    tokenizer=whitespace_tokenizer, lemmatizer=wordnet_lemmatizer))\n",
    "x_train_con_stem = train['News'].apply(lambda x : preprocess_text(x, remove_stopwords=False, fix_contractions=True, remove_punctuation=False,\n",
    "                    tokenizer=whitespace_tokenizer, stemmer=porter_stemmer))"
   ]
  },
  {
   "cell_type": "code",
   "execution_count": 27,
   "id": "9d539ac5",
   "metadata": {},
   "outputs": [],
   "source": [
    "x_test_con_lemma = test['News'].apply(lambda x : preprocess_text(x, remove_stopwords=False, fix_contractions=True, remove_punctuation=False,\n",
    "                    tokenizer=whitespace_tokenizer, lemmatizer=wordnet_lemmatizer))\n",
    "x_test_con_stem = test['News'].apply(lambda x : preprocess_text(x, remove_stopwords=False, fix_contractions=True, remove_punctuation=False,\n",
    "                    tokenizer=whitespace_tokenizer, stemmer=porter_stemmer))"
   ]
  },
  {
   "cell_type": "markdown",
   "id": "9bc1d4fc",
   "metadata": {},
   "source": [
    "## Feature Engineering"
   ]
  },
  {
   "cell_type": "code",
   "execution_count": 31,
   "id": "dce36a6d",
   "metadata": {},
   "outputs": [],
   "source": [
    "encoder = preprocessing.LabelEncoder()\n",
    "train_y = encoder.fit_transform(train['Labels'])\n",
    "test_y = encoder.fit_transform(test['Labels'])\n"
   ]
  },
  {
   "cell_type": "code",
   "execution_count": 132,
   "id": "881f470c",
   "metadata": {},
   "outputs": [],
   "source": [
    "X_train = x_train_stop_con_punc\n",
    "X_test = x_test_stop_con_punc"
   ]
  },
  {
   "cell_type": "markdown",
   "id": "9c80dce1",
   "metadata": {},
   "source": [
    "#### Count Vectorizer"
   ]
  },
  {
   "cell_type": "code",
   "execution_count": 133,
   "id": "0111eccb",
   "metadata": {},
   "outputs": [],
   "source": [
    "count_vectorizer = CountVectorizer(analyzer='word', token_pattern=r'\\w{1,}')\n",
    "count_vectorizer.fit(X_train)\n",
    "x_train_count = count_vectorizer.transform(X_train)\n",
    "x_test_count = count_vectorizer.transform(X_test)"
   ]
  },
  {
   "cell_type": "markdown",
   "id": "eeaaa55b",
   "metadata": {},
   "source": [
    "#### Tfidf Vectorizer - Char Ngram(1, 2)"
   ]
  },
  {
   "cell_type": "code",
   "execution_count": null,
   "id": "0b0d53e7",
   "metadata": {},
   "outputs": [],
   "source": [
    "##Not feasible -- Too little information\n",
    "tfidf_vectorizer_char = TfidfVectorizer(analyzer='char', ngram_range(1,2), max_features=10000)\n",
    "tfidf_vectorizer_char.fit(X_train)\n",
    "x_train_tfidf_char = tfidf_vectorizer_char.transform(X_train)\n",
    "x_test_tfidf_char = tfidf_vectorizer_char.transform(X_test)"
   ]
  },
  {
   "cell_type": "markdown",
   "id": "7ace83d8",
   "metadata": {},
   "source": [
    "#### Tfidf Vectorizer - Word / Unigram"
   ]
  },
  {
   "cell_type": "code",
   "execution_count": 134,
   "id": "0271e42a",
   "metadata": {},
   "outputs": [],
   "source": [
    "tfidf_vectorizer_word = TfidfVectorizer(analyzer='word', token_pattern=r'\\w{1,}', max_features=10000)\n",
    "tfidf_vectorizer_word.fit(X_train)\n",
    "x_train_tfidf_word = tfidf_vectorizer_word.transform(X_train)\n",
    "x_test_tfidf_word = tfidf_vectorizer_word.transform(X_test)"
   ]
  },
  {
   "cell_type": "markdown",
   "id": "f6f474b1",
   "metadata": {},
   "source": [
    "#### Tfidf Vectorizer - Unigrams and Bigrams"
   ]
  },
  {
   "cell_type": "code",
   "execution_count": 135,
   "id": "ab8dbe8e",
   "metadata": {},
   "outputs": [],
   "source": [
    "tfidf_vectorizer_ngram2 = TfidfVectorizer(analyzer='word', token_pattern=r'\\w{1,}', ngram_range=(1,2), max_features=20000)\n",
    "tfidf_vectorizer_ngram2.fit(X_train)\n",
    "x_train_tfidf_ngram2 = tfidf_vectorizer_ngram2.transform(X_train)\n",
    "x_test_tfidf_ngram2 = tfidf_vectorizer_ngram2.transform(X_test)"
   ]
  },
  {
   "cell_type": "markdown",
   "id": "74827a17",
   "metadata": {},
   "source": [
    "#### Tfidf Vectorizer - Unigrams and Bigrams and Trigrams"
   ]
  },
  {
   "cell_type": "code",
   "execution_count": 102,
   "id": "c2cfdbb4",
   "metadata": {},
   "outputs": [
    {
     "data": {
      "text/plain": [
       "\"\\n##To try later if needed\\ntfidf_vectorizer_ngram3 = TfidfVectorizer(analyzer='word', token_pattern=r'\\\\w{1,}', ngram_range=(1,3), max_features=30000)\\ntfidf_vectorizer_ngram3.fit(X_train)\\nx_train_tfidf_ngram3 = tfidf_vectorizer_ngram3.transform(X_train)\\nx_test_tfidf_ngram3 = tfidf_vectorizer_ngram3.transform(X_test)\\n\""
      ]
     },
     "execution_count": 102,
     "metadata": {},
     "output_type": "execute_result"
    }
   ],
   "source": [
    "'''\n",
    "##To try later if needed\n",
    "tfidf_vectorizer_ngram3 = TfidfVectorizer(analyzer='word', token_pattern=r'\\w{1,}', ngram_range=(1,3), max_features=30000)\n",
    "tfidf_vectorizer_ngram3.fit(X_train)\n",
    "x_train_tfidf_ngram3 = tfidf_vectorizer_ngram3.transform(X_train)\n",
    "x_test_tfidf_ngram3 = tfidf_vectorizer_ngram3.transform(X_test)\n",
    "'''"
   ]
  },
  {
   "cell_type": "code",
   "execution_count": 136,
   "id": "bab312c7",
   "metadata": {},
   "outputs": [],
   "source": [
    "#Hyperparameter:\n",
    "alpha_value=1\n",
    "\n",
    "def train_model(model, X_train, y_train):\n",
    "    model.fit(X_train, y_train)\n",
    "    return model\n",
    "\n",
    "def predict(model, X_valid):\n",
    "    y_pred = model.predict(X_valid)\n",
    "    return y_pred"
   ]
  },
  {
   "cell_type": "code",
   "execution_count": 137,
   "id": "7053bccc",
   "metadata": {},
   "outputs": [
    {
     "name": "stdout",
     "output_type": "stream",
     "text": [
      "Count vectorizer f1_score is 0.6288138324436103\n",
      "Count vectorizer accuracy is 0.6533333333333333\n"
     ]
    }
   ],
   "source": [
    "naive_bayes_count_model = train_model(naive_bayes.MultinomialNB(alpha=alpha_value), x_train_count, train_y)\n",
    "y_pred_nb_count = predict(naive_bayes_count_model, x_test_count)\n",
    "nb_count_f1_score = metrics.f1_score(y_pred_nb_count, test_y, average='macro')\n",
    "nb_count_accuracy_score = metrics.accuracy_score(y_pred_nb_count, test_y)\n",
    "print(\"Count vectorizer f1_score is \" + str(nb_count_f1_score))\n",
    "print(\"Count vectorizer accuracy is \" + str(nb_count_accuracy_score))"
   ]
  },
  {
   "cell_type": "code",
   "execution_count": null,
   "id": "d08ab2bf",
   "metadata": {},
   "outputs": [],
   "source": [
    "'''\n",
    "Count vectorizer f1 and accuracy scores:\n",
    "No preprocessing:\n",
    "Count vectorizer f1_score is 0.6648366966603887\n",
    "Count vectorizer accuracy is 0.679\n",
    "Contractions removed:\n",
    "Count vectorizer f1_score is 0.6695618110202328\n",
    "Count vectorizer accuracy is 0.6866666666666666\n",
    "Stopwords removed:\n",
    "Count vectorizer f1_score is 0.6677972020499174\n",
    "Count vectorizer accuracy is 0.6806666666666666\n",
    "Punctuation removed:\n",
    "Count vectorizer f1_score is 0.6264366613111475\n",
    "Count vectorizer accuracy is 0.6536666666666666\n",
    "Stopwords and contractions removed:\n",
    "Count vectorizer f1_score is 0.6669255857862734\n",
    "Count vectorizer accuracy is 0.6823333333333333\n",
    "Stopwords and punctuation removed:\n",
    "Count vectorizer f1_score is 0.6261753209216978\n",
    "Count vectorizer accuracy is 0.6506666666666666\n",
    "Contractions and punctuation removed:\n",
    "Count vectorizer f1_score is 0.6255990239756839\n",
    "Count vectorizer accuracy is 0.6533333333333333\n",
    "Stopwords, contractions and punctuation removed:\n",
    "Count vectorizer f1_score is 0.6288138324436103\n",
    "Count vectorizer accuracy is 0.6533333333333333\n",
    "'''"
   ]
  },
  {
   "cell_type": "code",
   "execution_count": 138,
   "id": "4589bd11",
   "metadata": {},
   "outputs": [
    {
     "name": "stdout",
     "output_type": "stream",
     "text": [
      "Tfidf word f1_score is 0.6827353091503914\n",
      "Tfidf word accuracy is 0.686\n"
     ]
    }
   ],
   "source": [
    "naive_bayes_tfidf_word_model = train_model(naive_bayes.MultinomialNB(alpha=alpha_value), x_train_tfidf_word, train_y)\n",
    "y_pred_nb_tfidf_word = predict(naive_bayes_tfidf_word_model, x_test_tfidf_word)\n",
    "nb_tfidf_word_f1_score = metrics.f1_score(y_pred_nb_tfidf_word, test_y, average='macro')\n",
    "nb_tfidf_word_accuracy_score = metrics.accuracy_score(y_pred_nb_tfidf_word, test_y)\n",
    "print(\"Tfidf word f1_score is \" + str(nb_tfidf_word_f1_score))\n",
    "print(\"Tfidf word accuracy is \" + str(nb_tfidf_word_accuracy_score))"
   ]
  },
  {
   "cell_type": "code",
   "execution_count": null,
   "id": "7d3a8149",
   "metadata": {},
   "outputs": [],
   "source": [
    "'''\n",
    "Tfidf word f1 and accuracy scores:\n",
    "No preprocessing:\n",
    "Tfidf word f1_score is 0.683878861491291\n",
    "Tfidf word accuracy is 0.6873333333333334\n",
    "Contractions removed:\n",
    "Tfidf word f1_score is 0.6854522538517311\n",
    "Tfidf word accuracy is 0.6906666666666667\n",
    "Stopwords removed:\n",
    "Tfidf word f1_score is 0.689722124862688\n",
    "Tfidf word accuracy is 0.6923333333333334\n",
    "Punctuation removed:\n",
    "Tfidf word f1_score is 0.6776867759945222\n",
    "Tfidf word accuracy is 0.683\n",
    "Stopwords and contractions removed:\n",
    "Tfidf word f1_score is 0.6891682040511752\n",
    "Tfidf word accuracy is 0.693\n",
    "Stopwords and punctuation removed:\n",
    "Tfidf word f1_score is 0.6819728764781524\n",
    "Tfidf word accuracy is 0.6853333333333333\n",
    "Contractions and punctuation removed:\n",
    "Tfidf word f1_score is 0.6781793402029098\n",
    "Tfidf word accuracy is 0.683\n",
    "Stopwords, contractions and punctuation removed:\n",
    "Tfidf word f1_score is 0.6827353091503914\n",
    "Tfidf word accuracy is 0.686\n",
    "'''"
   ]
  },
  {
   "cell_type": "code",
   "execution_count": 139,
   "id": "b08649f7",
   "metadata": {},
   "outputs": [
    {
     "name": "stdout",
     "output_type": "stream",
     "text": [
      "Tfidf ngram2 f1_score is 0.6916478434781799\n",
      "Tfidf ngram2 accuracy is 0.6936666666666667\n"
     ]
    }
   ],
   "source": [
    "naive_bayes_tfidf_ngram2_model = train_model(naive_bayes.MultinomialNB(alpha=alpha_value), x_train_tfidf_ngram2, train_y)\n",
    "y_pred_nb_tfidf_ngram2 = predict(naive_bayes_tfidf_ngram2_model, x_test_tfidf_ngram2)\n",
    "nb_tfidf_ngram2_f1_score = metrics.f1_score(y_pred_nb_tfidf_ngram2, test_y, average='macro')\n",
    "nb_tfidf_ngram2_accuracy_score = metrics.accuracy_score(y_pred_nb_tfidf_ngram2, test_y)\n",
    "print(\"Tfidf ngram2 f1_score is \" + str(nb_tfidf_ngram2_f1_score))\n",
    "print(\"Tfidf ngram2 accuracy is \" + str(nb_tfidf_ngram2_accuracy_score))"
   ]
  },
  {
   "cell_type": "code",
   "execution_count": null,
   "id": "d89e0da1",
   "metadata": {},
   "outputs": [],
   "source": [
    "'''\n",
    "Tfidf ngram2 f1 and accuracy scores:\n",
    "No preprocessing:\n",
    "20K\n",
    "Tfidf ngram2 f1_score is 0.6904927036593713\n",
    "Tfidf ngram2 accuracy is 0.695\n",
    "Contractions removed(20K):\n",
    "Tfidf ngram2 f1_score is 0.6957307273163922\n",
    "Tfidf ngram2 accuracy is 0.703\n",
    "Stopwords removed(20K):\n",
    "Tfidf ngram2 f1_score is 0.6878052273096324\n",
    "Tfidf ngram2 accuracy is 0.6893333333333334\n",
    "Punctuation removed(20K):\n",
    "Tfidf ngram2 f1_score is 0.6844410490110763\n",
    "Tfidf ngram2 accuracy is 0.6913333333333334\n",
    "Stopwords and contractions removed(20K):\n",
    "Tfidf ngram2 f1_score is 0.7010536400814287\n",
    "Tfidf ngram2 accuracy is 0.7036666666666667\n",
    "Stopwords and punctuation removed(20K):\n",
    "Tfidf ngram2 f1_score is 0.6891452524608814\n",
    "Tfidf ngram2 accuracy is 0.691\n",
    "Contractions and punctuation removed (20K):\n",
    "Tfidf ngram2 f1_score is 0.6827694473244238\n",
    "Tfidf ngram2 accuracy is 0.6896666666666667\n",
    "Stopwords, contractions and punctuation removed (20K):\n",
    "Tfidf ngram2 f1_score is 0.6916478434781799\n",
    "Tfidf ngram2 accuracy is 0.6936666666666667\n",
    "'''"
   ]
  },
  {
   "cell_type": "code",
   "execution_count": null,
   "id": "ed0f0464",
   "metadata": {},
   "outputs": [],
   "source": [
    "'''\n",
    "30K\n",
    "Tfidf ngram2 f1_score is 0.6942318664030661\n",
    "Tfidf ngram2 accuracy is 0.6983333333333334\n",
    "'''"
   ]
  },
  {
   "cell_type": "code",
   "execution_count": 74,
   "id": "b8688b36",
   "metadata": {},
   "outputs": [
    {
     "name": "stdout",
     "output_type": "stream",
     "text": [
      "Tfidf ngram3 f1_score is 0.680573686001227\n",
      "Tfidf ngram3 accuracy is 0.6856666666666666\n"
     ]
    }
   ],
   "source": [
    "'''\n",
    "naive_bayes_tfidf_ngram3_model = train_model(naive_bayes.MultinomialNB(alpha=alpha_value), x_train_tfidf_ngram3, train_y)\n",
    "y_pred_nb_tfidf_ngram3 = predict(naive_bayes_tfidf_ngram3_model, x_test_tfidf_ngram3)\n",
    "nb_tfidf_ngram3_f1_score = metrics.f1_score(y_pred_nb_tfidf_ngram3, test_y, average='macro')\n",
    "nb_tfidf_ngram3_accuracy_score = metrics.accuracy_score(y_pred_nb_tfidf_ngram3, test_y)\n",
    "print(\"Tfidf ngram3 f1_score is \" + str(nb_tfidf_ngram3_f1_score))\n",
    "print(\"Tfidf ngram3 accuracy is \" + str(nb_tfidf_ngram3_accuracy_score))\n",
    "'''"
   ]
  },
  {
   "cell_type": "code",
   "execution_count": null,
   "id": "7210024d",
   "metadata": {},
   "outputs": [],
   "source": [
    "## To be done if required\n",
    "'''\n",
    "Tfidf ngram3 f1 and accuracy scores:\n",
    "No preprocessing:\n",
    "10K\n",
    "Tfidf ngram3 f1_score is 0.6599841938542438\n",
    "Tfidf ngram3 accuracy is 0.6673333333333333\n",
    "20K\n",
    "Tfidf ngram3 f1_score is 0.680573686001227\n",
    "Tfidf ngram3 accuracy is 0.6856666666666666\n",
    "'''"
   ]
  },
  {
   "cell_type": "code",
   "execution_count": 66,
   "id": "ec578094",
   "metadata": {},
   "outputs": [
    {
     "name": "stdout",
     "output_type": "stream",
     "text": [
      "Tfidf char f1_score is 0.09804052533018669\n",
      "Tfidf char accuracy is 0.19533333333333333\n"
     ]
    }
   ],
   "source": [
    "naive_bayes_tfidf_char_model = train_model(naive_bayes.MultinomialNB(alpha=alpha_value), x_train_tfidf_char, train_y)\n",
    "y_pred_nb_tfidf_char = predict(naive_bayes_tfidf_char_model, x_test_tfidf_char)\n",
    "nb_tfidf_char_f1_score = metrics.f1_score(y_pred_nb_tfidf_char, test_y, average='macro')\n",
    "nb_tfidf_char_accuracy_score = metrics.accuracy_score(y_pred_nb_tfidf_char, test_y)\n",
    "print(\"Tfidf char f1_score is \" + str(nb_tfidf_char_f1_score))\n",
    "print(\"Tfidf char accuracy is \" + str(nb_tfidf_char_accuracy_score))"
   ]
  },
  {
   "cell_type": "code",
   "execution_count": null,
   "id": "4f848aad",
   "metadata": {},
   "outputs": [],
   "source": []
  },
  {
   "cell_type": "code",
   "execution_count": null,
   "id": "83719fd4",
   "metadata": {},
   "outputs": [],
   "source": [
    "##Findings\n",
    "##Tfidf char is not feasible since char contains too little information\n",
    "##Best model looks to be tfidf vectorizer feature enginnering with unigram and bigram with stopwords and contractions removed."
   ]
  }
 ],
 "metadata": {
  "kernelspec": {
   "display_name": "Python 3 (ipykernel)",
   "language": "python",
   "name": "python3"
  },
  "language_info": {
   "codemirror_mode": {
    "name": "ipython",
    "version": 3
   },
   "file_extension": ".py",
   "mimetype": "text/x-python",
   "name": "python",
   "nbconvert_exporter": "python",
   "pygments_lexer": "ipython3",
   "version": "3.9.7"
  }
 },
 "nbformat": 4,
 "nbformat_minor": 5
}
