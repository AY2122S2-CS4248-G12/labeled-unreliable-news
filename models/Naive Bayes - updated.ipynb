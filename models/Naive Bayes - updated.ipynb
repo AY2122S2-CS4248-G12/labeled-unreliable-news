{
 "cells": [
  {
   "cell_type": "markdown",
   "id": "2aede3ea",
   "metadata": {},
   "source": [
    "## Imports"
   ]
  },
  {
   "cell_type": "code",
   "execution_count": 148,
   "id": "c283b4dd",
   "metadata": {},
   "outputs": [],
   "source": [
    "import pandas as pd\n",
    "import numpy as np\n",
    "import re\n",
    "import sys\n",
    "\n",
    "from sklearn import preprocessing\n",
    "from sklearn import naive_bayes\n",
    "from nltk.stem import WordNetLemmatizer\n",
    "from nltk.stem.porter import PorterStemmer\n",
    "from sklearn.model_selection import train_test_split\n",
    "from sklearn import metrics\n",
    "from sklearn.metrics import f1_score\n",
    "from sklearn.feature_extraction.text import TfidfVectorizer\n",
    "from sklearn.linear_model import LogisticRegression\n",
    "from sklearn.feature_extraction.text import CountVectorizer\n",
    "from sklearn.preprocessing import OneHotEncoder\n",
    "\n",
    "from sklearn.model_selection import StratifiedKFold\n",
    "from sklearn.model_selection import cross_val_score\n",
    "from sklearn.model_selection import GridSearchCV\n",
    "\n",
    "from sklearn.model_selection import train_test_split\n",
    "from sklearn.metrics import classification_report\n",
    "import matplotlib.pyplot as plt\n",
    "from sklearn.metrics import roc_auc_score\n",
    "from sklearn.metrics import confusion_matrix, ConfusionMatrixDisplay\n",
    "from sklearn.metrics import RocCurveDisplay\n",
    "from sklearn.metrics import plot_confusion_matrix\n",
    "\n",
    "sys.path.append(\"..\")\n",
    "from preprocessing.preprocessor import Preprocessor\n",
    "from datasets.fake_news_detection import FakeNewsDetectionDataset\n",
    "\n"
   ]
  },
  {
   "cell_type": "markdown",
   "id": "6fc96211",
   "metadata": {},
   "source": [
    "## Inspect test and train datasets"
   ]
  },
  {
   "cell_type": "code",
   "execution_count": 2,
   "id": "58e0b068",
   "metadata": {},
   "outputs": [
    {
     "name": "stdout",
     "output_type": "stream",
     "text": [
      "   Labels                                               News\n",
      "0       1  A little less than a decade ago, hockey fans w...\n",
      "1       1  The writers of the HBO series The Sopranos too...\n",
      "2       1  Despite claims from the TV news outlet to offe...\n",
      "3       1  After receiving 'subpar' service and experienc...\n",
      "4       1  After watching his beloved Seattle Mariners pr...\n",
      "   Labels                                               News\n",
      "0       1  When so many actors seem content to churn out ...\n",
      "1       1   In what football insiders are calling an unex...\n",
      "2       1  In a freak accident following Game 3 of the N....\n",
      "3       1  North Koreas official news agency announced to...\n",
      "4       1  The former Alaska Governor Sarah Palin would b...\n"
     ]
    }
   ],
   "source": [
    "train = pd.read_csv('../raw_data/fulltrain.csv', header=None)\n",
    "test = pd.read_csv('../raw_data/balancedtest.csv', header=None)\n",
    "train.columns=['Labels', 'News']\n",
    "test.columns=['Labels', 'News']\n",
    "print(train.head())\n",
    "print(test.head())"
   ]
  },
  {
   "cell_type": "code",
   "execution_count": 3,
   "id": "a56e77c0",
   "metadata": {},
   "outputs": [
    {
     "name": "stdout",
     "output_type": "stream",
     "text": [
      "3    17870\n",
      "1    14047\n",
      "4     9995\n",
      "2     6942\n",
      "Name: Labels, dtype: int64\n"
     ]
    },
    {
     "data": {
      "text/plain": [
       "<AxesSubplot:title={'center':'Distribution of train labels'}>"
      ]
     },
     "execution_count": 3,
     "metadata": {},
     "output_type": "execute_result"
    },
    {
     "data": {
      "image/png": "[encoded data removed]",
      "text/plain": [
       "<Figure size 432x288 with 1 Axes>"
      ]
     },
     "metadata": {
      "needs_background": "light"
     },
     "output_type": "display_data"
    }
   ],
   "source": [
    "print(train['Labels'].value_counts())\n",
    "train['Labels'].value_counts().plot(kind = 'bar', title = 'Distribution of train labels')\n",
    "##Imbalanced dataset"
   ]
  },
  {
   "cell_type": "code",
   "execution_count": 4,
   "id": "24dd112f",
   "metadata": {},
   "outputs": [
    {
     "name": "stdout",
     "output_type": "stream",
     "text": [
      "1    750\n",
      "2    750\n",
      "3    750\n",
      "4    750\n",
      "Name: Labels, dtype: int64\n"
     ]
    },
    {
     "data": {
      "text/plain": [
       "<AxesSubplot:title={'center':'Distribution of test labels'}>"
      ]
     },
     "execution_count": 4,
     "metadata": {},
     "output_type": "execute_result"
    },
    {
     "data": {
      "image/png": "[encoded data removed]",
      "text/plain": [
       "<Figure size 432x288 with 1 Axes>"
      ]
     },
     "metadata": {
      "needs_background": "light"
     },
     "output_type": "display_data"
    }
   ],
   "source": [
    "print(test['Labels'].value_counts())\n",
    "test['Labels'].value_counts().plot(kind = 'bar', title = 'Distribution of test labels')"
   ]
  },
  {
   "cell_type": "markdown",
   "id": "ab9d3fa0",
   "metadata": {},
   "source": [
    "### Outdated"
   ]
  },
  {
   "cell_type": "code",
   "execution_count": 30,
   "id": "808be671",
   "metadata": {},
   "outputs": [],
   "source": [
    "'''\n",
    "##For some reason couldnt import the preprocessor from the other folder. Idk if it's a Jupiter notebook thing\n",
    "import contractions\n",
    "import string\n",
    "\n",
    "from nltk import pos_tag\n",
    "from nltk.corpus import stopwords\n",
    "from nltk.tokenize import WhitespaceTokenizer\n",
    "\n",
    "whitespace_tokenizer = WhitespaceTokenizer()\n",
    "\n",
    "stopwords = list(stopwords.words('english'))\n",
    "\n",
    "\n",
    "def preprocess_text(s, remove_stopwords=True, fix_contractions=True, remove_punctuation=True,\n",
    "                    tokenizer=whitespace_tokenizer, stemmer=None, lemmatizer=None, lowercase=True):\n",
    "    # Throw error if both stemmer and lemmatizer are not None\n",
    "    if stemmer is not None and lemmatizer is not None:\n",
    "        raise ValueError(\"Stemmer and Lemmatizer cannot both be not None\")\n",
    "\n",
    "    # Tokenize with default tokenizer\n",
    "    token_list = tokenizer.tokenize(s)\n",
    "\n",
    "    # Fix contractions\n",
    "    if fix_contractions:\n",
    "        new_token_list = []\n",
    "        for token in token_list:\n",
    "            new_token = contractions.fix(token)\n",
    "            if (len(new_token.split()) == 2):\n",
    "                new_token_list.append(new_token.split()[0])\n",
    "                new_token_list.append(new_token.split()[1])\n",
    "            else:\n",
    "                new_token_list.append(new_token)\n",
    "        token_list = new_token_list\n",
    "\n",
    "    # Stem or lemmatize if not None\n",
    "    if stemmer is not None:\n",
    "        for idx, token in enumerate(token_list):\n",
    "            token_list[idx] = stemmer.stem(token)\n",
    "    elif lemmatizer is not None:\n",
    "        # Pos tagger to tag all tokens\n",
    "        pos_tag_list = pos_tag(token_list)\n",
    "        for idx, (token, tag) in enumerate(pos_tag_list):\n",
    "            tag_simple = tag[0].lower()\n",
    "            if tag_simple in ['n', 'v', 'j']:\n",
    "                word_type = tag_simple.replace('j', 'a')\n",
    "            else:\n",
    "                word_type = 'n'\n",
    "            lemmatized_token = lemmatizer.lemmatize(token, pos=word_type)\n",
    "            token_list[idx] = lemmatized_token\n",
    "\n",
    "    # Convert all tokens to lowercase if True\n",
    "    if lowercase:\n",
    "        token_list = [token.lower() for token in token_list]\n",
    "\n",
    "    # Remove all stopwords if True\n",
    "    if remove_stopwords:\n",
    "        token_list = [token for token in token_list if not token in stopwords]\n",
    "\n",
    "    # Remove all punctuation marks if True\n",
    "    if remove_punctuation:\n",
    "        token_list = [''.join(c for c in s if c not in string.punctuation) for s in token_list]\n",
    "        token_list = [token for token in token_list if len(token) > 0]\n",
    "\n",
    "    #return token_list\n",
    "    return ' '.join(token_list)\n",
    "'''"
   ]
  },
  {
   "cell_type": "code",
   "execution_count": null,
   "id": "a318f79a",
   "metadata": {},
   "outputs": [],
   "source": [
    "'''\n",
    "x_train_punc = train['News'].apply(lambda x : preprocess_text(x, remove_stopwords=False, fix_contractions=False, remove_punctuation=True,\n",
    "                    tokenizer=whitespace_tokenizer))\n",
    "x_test_punc = test['News'].apply(lambda x : preprocess_text(x, remove_stopwords=False, fix_contractions=False, remove_punctuation=True,\n",
    "                    tokenizer=whitespace_tokenizer))\n",
    "x_train_stop_punc = train['News'].apply(lambda x : preprocess_text(x, remove_stopwords=True, fix_contractions=False, remove_punctuation=True,\n",
    "                    tokenizer=whitespace_tokenizer))\n",
    "x_test_stop_punc = test['News'].apply(lambda x : preprocess_text(x, remove_stopwords=True, fix_contractions=False, remove_punctuation=True,\n",
    "                    tokenizer=whitespace_tokenizer))\n",
    "x_train_con_punc = train['News'].apply(lambda x : preprocess_text(x, remove_stopwords=False, fix_contractions=True, remove_punctuation=True,\n",
    "                    tokenizer=whitespace_tokenizer))\n",
    "x_test_con_punc = test['News'].apply(lambda x : preprocess_text(x, remove_stopwords=False, fix_contractions=True, remove_punctuation=True,\n",
    "                    tokenizer=whitespace_tokenizer))\n",
    "x_train_stop_con_punc = train['News'].apply(lambda x : preprocess_text(x, remove_stopwords=True, fix_contractions=True, remove_punctuation=True,\n",
    "                    tokenizer=whitespace_tokenizer))\n",
    "x_test_stop_con_punc = test['News'].apply(lambda x : preprocess_text(x, remove_stopwords=True, fix_contractions=True, remove_punctuation=True,\n",
    "                    tokenizer=whitespace_tokenizer))\n",
    "x_train_stop = train['News'].apply(lambda x : preprocess_text(x, remove_stopwords=True, fix_contractions=False, remove_punctuation=False,\n",
    "                    tokenizer=whitespace_tokenizer))\n",
    "x_test_stop = test['News'].apply(lambda x : preprocess_text(x, remove_stopwords=True, fix_contractions=False, remove_punctuation=False,\n",
    "                    tokenizer=whitespace_tokenizer))\n",
    "x_train_con = train['News'].apply(lambda x : preprocess_text(x, remove_stopwords=False, fix_contractions=True, remove_punctuation=False,\n",
    "                    tokenizer=whitespace_tokenizer))\n",
    "x_test_con = test['News'].apply(lambda x : preprocess_text(x, remove_stopwords=False, fix_contractions=True, remove_punctuation=False,\n",
    "                    tokenizer=whitespace_tokenizer))\n",
    "\n",
    "\n",
    "x_train_stop_con = train['News'].apply(lambda x : preprocess_text(x, remove_stopwords=True, fix_contractions=True, remove_punctuation=False,\n",
    "                    tokenizer=whitespace_tokenizer))\n",
    "x_test_stop_con = test['News'].apply(lambda x : preprocess_text(x, remove_stopwords=True, fix_contractions=True, remove_punctuation=False,\n",
    "                    tokenizer=whitespace_tokenizer))\n",
    "x_train_none = train['News'].apply(lambda x : preprocess_text(x, remove_stopwords=False, fix_contractions=False, remove_punctuation=False,\n",
    "                    tokenizer=whitespace_tokenizer))\n",
    "x_test_none = test['News'].apply(lambda x : preprocess_text(x, remove_stopwords=False, fix_contractions=False, remove_punctuation=False,\n",
    "                    tokenizer=whitespace_tokenizer))\n",
    "                    '''"
   ]
  },
  {
   "cell_type": "code",
   "execution_count": null,
   "id": "8c37426d",
   "metadata": {},
   "outputs": [],
   "source": [
    "'''\n",
    "porter_stemmer = PorterStemmer()\n",
    "wordnet_lemmatizer = WordNetLemmatizer()\n",
    "x_train_punc_con_lemma = train['News'].apply(lambda x : preprocess_text(x, remove_stopwords=False, fix_contractions=True, remove_punctuation=True,\n",
    "                    tokenizer=whitespace_tokenizer, lemmatizer=wordnet_lemmatizer))\n",
    "x_train_punc_con_stem = train['News'].apply(lambda x : preprocess_text(x, remove_stopwords=False, fix_contractions=True, remove_punctuation=True,\n",
    "                    tokenizer=whitespace_tokenizer, stemmer=porter_stemmer))\n",
    "x_train_no_lemma = train['News'].apply(lambda x : preprocess_text(x, remove_stopwords=False, fix_contractions=False, remove_punctuation=False,\n",
    "                    tokenizer=whitespace_tokenizer, lemmatizer=wordnet_lemmatizer))\n",
    "x_train_no_stem = train['News'].apply(lambda x : preprocess_text(x, remove_stopwords=False, fix_contractions=False, remove_punctuation=False,\n",
    "                    tokenizer=whitespace_tokenizer, stemmer=porter_stemmer))\n",
    "                    '''"
   ]
  },
  {
   "cell_type": "code",
   "execution_count": null,
   "id": "9d539ac5",
   "metadata": {},
   "outputs": [],
   "source": [
    "'''\n",
    "x_test_punc_con_lemma = test['News'].apply(lambda x : preprocess_text(x, remove_stopwords=False, fix_contractions=True, remove_punctuation=True,\n",
    "                    tokenizer=whitespace_tokenizer, lemmatizer=wordnet_lemmatizer))\n",
    "x_test_punc_con_stem = test['News'].apply(lambda x : preprocess_text(x, remove_stopwords=False, fix_contractions=True, remove_punctuation=True,\n",
    "                    tokenizer=whitespace_tokenizer, stemmer=porter_stemmer))\n",
    "x_test_no_lemma = test['News'].apply(lambda x : preprocess_text(x, remove_stopwords=False, fix_contractions=False, remove_punctuation=False,\n",
    "                    tokenizer=whitespace_tokenizer, lemmatizer=wordnet_lemmatizer))\n",
    "x_test_no_stem = test['News'].apply(lambda x : preprocess_text(x, remove_stopwords=False, fix_contractions=False, remove_punctuation=False,\n",
    "                    tokenizer=whitespace_tokenizer, stemmer=porter_stemmer))\n",
    "                    '''"
   ]
  },
  {
   "cell_type": "markdown",
   "id": "d01066ba",
   "metadata": {},
   "source": [
    "## Use Preprocessor to Preprocess Data"
   ]
  },
  {
   "cell_type": "code",
   "execution_count": 5,
   "id": "a115f0e2",
   "metadata": {},
   "outputs": [],
   "source": [
    "# Control which linguistic preprocessing steps should run.\n",
    "preprocessor_none = Preprocessor(perform_case_folding=False,\n",
    "                            remove_stop_words=False,\n",
    "                            remove_punctuation=False,\n",
    "                            perform_lemmatization=False,\n",
    "                            perform_stemming=False)\n",
    "preprocessor_stop = Preprocessor(perform_case_folding=False,\n",
    "                            remove_stop_words=True,\n",
    "                            remove_punctuation=False,\n",
    "                            perform_lemmatization=False,\n",
    "                            perform_stemming=False)\n",
    "preprocessor_punc = Preprocessor(perform_case_folding=False,\n",
    "                            remove_stop_words=False,\n",
    "                            remove_punctuation=True,\n",
    "                            perform_lemmatization=False,\n",
    "                            perform_stemming=False)\n",
    "preprocessor_case = Preprocessor(perform_case_folding=True,\n",
    "                            remove_stop_words=False,\n",
    "                            remove_punctuation=False,\n",
    "                            perform_lemmatization=False,\n",
    "                            perform_stemming=False)\n",
    "preprocessor_stop_case = Preprocessor(perform_case_folding=True,\n",
    "                            remove_stop_words=True,\n",
    "                            remove_punctuation=False,\n",
    "                            perform_lemmatization=False,\n",
    "                            perform_stemming=False)\n",
    "preprocessor_stop_punc = Preprocessor(perform_case_folding=False,\n",
    "                            remove_stop_words=True,\n",
    "                            remove_punctuation=True,\n",
    "                            perform_lemmatization=False,\n",
    "                            perform_stemming=False)\n",
    "preprocessor_punc_case = Preprocessor(perform_case_folding=True,\n",
    "                            remove_stop_words=False,\n",
    "                            remove_punctuation=True,\n",
    "                            perform_lemmatization=False,\n",
    "                            perform_stemming=False)\n",
    "preprocessor_stop_punc_case = Preprocessor(perform_case_folding=True,\n",
    "                            remove_stop_words=True,\n",
    "                            remove_punctuation=True,\n",
    "                            perform_lemmatization=False,\n",
    "                            perform_stemming=False)\n",
    "preprocessor_case_stem = Preprocessor(perform_case_folding=True,\n",
    "                            remove_stop_words=False,\n",
    "                            remove_punctuation=False,\n",
    "                            perform_lemmatization=False,\n",
    "                            perform_stemming=True)\n",
    "preprocessor_case_lemma = Preprocessor(perform_case_folding=True,\n",
    "                            remove_stop_words=False,\n",
    "                            remove_punctuation=False,\n",
    "                            perform_lemmatization=True,\n",
    "                            perform_stemming=False)\n",
    "\n",
    "def join(list):\n",
    "    string = \"\"\n",
    "    for word in list:\n",
    "        string = string + word + \" \"\n",
    "    return string.rstrip()"
   ]
  },
  {
   "cell_type": "markdown",
   "id": "0f3fe426",
   "metadata": {},
   "source": [
    "## All permutations of preprocessing"
   ]
  },
  {
   "cell_type": "code",
   "execution_count": 155,
   "id": "174a9340",
   "metadata": {},
   "outputs": [],
   "source": [
    "x_train_none = train['News'].apply(lambda x : join(preprocessor_none.process(x)))\n",
    "x_test_none = test['News'].apply(lambda x : join(preprocessor_none.process(x)))\n",
    "x_train_punc = train['News'].apply(lambda x : join(preprocessor_punc.process(x)))\n",
    "x_test_punc = test['News'].apply(lambda x : join(preprocessor_punc.process(x)))\n",
    "x_train_case = train['News'].apply(lambda x: join(preprocessor_case.process(x)))\n",
    "x_test_case = test['News'].apply(lambda x: join(preprocessor_case.process(x)))\n",
    "x_train_stop = train['News'].apply(lambda x: join(preprocessor_stop.process(x)))\n",
    "x_test_stop = test['News'].apply(lambda x: join(preprocessor_stop.process(x)))"
   ]
  },
  {
   "cell_type": "code",
   "execution_count": 173,
   "id": "574e2fcc",
   "metadata": {},
   "outputs": [],
   "source": [
    "x_train_stop_case = train['News'].apply(lambda x: join(preprocessor_stop_case.process(x)))\n",
    "x_test_stop_case = test['News'].apply(lambda x: join(preprocessor_stop_case.process(x)))\n",
    "x_train_stop_punc = train['News'].apply(lambda x: join(preprocessor_stop_punc.process(x)))\n",
    "x_test_stop_punc = test['News'].apply(lambda x: join(preprocessor_stop_punc.process(x)))\n",
    "x_train_punc_case = train['News'].apply(lambda x: join(preprocessor_punc_case.process(x)))\n",
    "x_test_punc_case = test['News'].apply(lambda x: join(preprocessor_punc_case.process(x)))\n",
    "x_train_stop_punc_case = train['News'].apply(lambda x: join(preprocessor_stop_punc_case.process(x)))\n",
    "x_test_stop_punc_case = test['News'].apply(lambda x: join(preprocessor_stop_punc_case.process(x)))"
   ]
  },
  {
   "cell_type": "code",
   "execution_count": 153,
   "id": "afc598b7",
   "metadata": {},
   "outputs": [],
   "source": [
    "x_train_case_stem = train['News'].apply(lambda x : join(preprocessor_case_stem.process(x)))\n",
    "x_test_case_stem = test['News'].apply(lambda x : join(preprocessor_case_stem.process(x)))"
   ]
  },
  {
   "cell_type": "code",
   "execution_count": 154,
   "id": "aceff666",
   "metadata": {},
   "outputs": [],
   "source": [
    "x_train_case_lemma = train['News'].apply(lambda x : join(preprocessor_case_lemma.process(x)))\n",
    "x_test_case_lemma = test['News'].apply(lambda x : join(preprocessor_case_lemma.process(x)))"
   ]
  },
  {
   "cell_type": "code",
   "execution_count": 29,
   "id": "2136ec6a",
   "metadata": {},
   "outputs": [
    {
     "name": "stdout",
     "output_type": "stream",
     "text": [
      "0       When so many actors seem content to churn out ...\n",
      "1       In what football insiders are calling an unexp...\n",
      "2       In a freak accident following Game 3 of the N....\n",
      "3       North Koreas official news agency announced to...\n",
      "4       The former Alaska Governor Sarah Palin would b...\n",
      "                              ...                        \n",
      "2995    The Air Force mistakenly gave rival companies ...\n",
      "2996    The United Nations climate chief on Friday cha...\n",
      "2997    River Plate midfielder Diego Buonanotte has un...\n",
      "2998    Lawmakers were on the brink Tuesday of exempti...\n",
      "2999    The Pentagon which is processing bids on a new...\n",
      "Name: News, Length: 3000, dtype: object\n"
     ]
    }
   ],
   "source": [
    "print(x_test_punc)"
   ]
  },
  {
   "cell_type": "markdown",
   "id": "9bc1d4fc",
   "metadata": {},
   "source": [
    "## Feature Engineering"
   ]
  },
  {
   "cell_type": "code",
   "execution_count": 9,
   "id": "dce36a6d",
   "metadata": {},
   "outputs": [],
   "source": [
    "encoder = preprocessing.LabelEncoder()\n",
    "train_y = encoder.fit_transform(train['Labels'])\n",
    "test_y = encoder.fit_transform(test['Labels'])"
   ]
  },
  {
   "cell_type": "code",
   "execution_count": 249,
   "id": "9e7ccef6",
   "metadata": {},
   "outputs": [],
   "source": [
    "X_train = x_train_case\n",
    "X_test = x_test_case"
   ]
  },
  {
   "cell_type": "code",
   "execution_count": 150,
   "id": "b26c3996",
   "metadata": {},
   "outputs": [
    {
     "name": "stdout",
     "output_type": "stream",
     "text": [
      "0        a little less than a decade ago , hockey fans ...\n",
      "1        the writers of the hbo series the sopranos too...\n",
      "2        despite claims from the tv news outlet to offe...\n",
      "3        after receiving 'subpar ' service and experien...\n",
      "4        after watching his beloved seattle mariners pr...\n",
      "                               ...                        \n",
      "48849    the ruling kuomintang ( kmt ) has claimed owne...\n",
      "48850    the taipei city government has encouraged the ...\n",
      "48851    president ma ying-jeou said friday that a park...\n",
      "48852    the families of the four people who were kille...\n",
      "48853    the ministry of finance will make public on sa...\n",
      "Name: News, Length: 48854, dtype: object\n"
     ]
    }
   ],
   "source": [
    "print(X_train)"
   ]
  },
  {
   "cell_type": "markdown",
   "id": "9c80dce1",
   "metadata": {},
   "source": [
    "#### Count Vectorizer"
   ]
  },
  {
   "cell_type": "code",
   "execution_count": 250,
   "id": "0111eccb",
   "metadata": {},
   "outputs": [],
   "source": [
    "count_vectorizer = CountVectorizer(analyzer='word', token_pattern=r'\\w{1,}', lowercase=False)\n",
    "count_vectorizer.fit(X_train)\n",
    "x_train_count = count_vectorizer.transform(X_train)\n",
    "x_test_count = count_vectorizer.transform(X_test)"
   ]
  },
  {
   "cell_type": "markdown",
   "id": "7ace83d8",
   "metadata": {},
   "source": [
    "#### Tfidf Vectorizer - Word / Unigram"
   ]
  },
  {
   "cell_type": "code",
   "execution_count": 251,
   "id": "0271e42a",
   "metadata": {},
   "outputs": [],
   "source": [
    "tfidf_vectorizer_word = TfidfVectorizer(analyzer='word', token_pattern=r'\\w{1,}', max_features=10000, lowercase=False)\n",
    "tfidf_vectorizer_word.fit(X_train)\n",
    "x_train_tfidf_word = tfidf_vectorizer_word.transform(X_train)\n",
    "x_test_tfidf_word = tfidf_vectorizer_word.transform(X_test)"
   ]
  },
  {
   "cell_type": "markdown",
   "id": "ca2bef8c",
   "metadata": {},
   "source": [
    "#### Tfidf Vectorizer - Bigrams"
   ]
  },
  {
   "cell_type": "code",
   "execution_count": 264,
   "id": "b928d1d9",
   "metadata": {},
   "outputs": [],
   "source": [
    "tfidf_vectorizer_bigram = TfidfVectorizer(analyzer='word', token_pattern=r'\\w{1,}', ngram_range=(2,2), max_features=25000, lowercase=False)\n",
    "tfidf_vectorizer_bigram.fit(X_train)\n",
    "x_train_tfidf_bigram = tfidf_vectorizer_bigram.transform(X_train)\n",
    "x_test_tfidf_bigram = tfidf_vectorizer_bigram.transform(X_test)"
   ]
  },
  {
   "cell_type": "markdown",
   "id": "f6f474b1",
   "metadata": {},
   "source": [
    "#### Tfidf Vectorizer - Unigrams and Bigrams"
   ]
  },
  {
   "cell_type": "code",
   "execution_count": 252,
   "id": "ab8dbe8e",
   "metadata": {},
   "outputs": [],
   "source": [
    "tfidf_vectorizer_ngram2 = TfidfVectorizer(analyzer='word', token_pattern=r'\\w{1,}', ngram_range=(1,2), max_features=25000, lowercase=False)\n",
    "tfidf_vectorizer_ngram2.fit(X_train)\n",
    "x_train_tfidf_ngram2 = tfidf_vectorizer_ngram2.transform(X_train)\n",
    "x_test_tfidf_ngram2 = tfidf_vectorizer_ngram2.transform(X_test)"
   ]
  },
  {
   "cell_type": "markdown",
   "id": "74827a17",
   "metadata": {},
   "source": [
    "#### Tfidf Vectorizer - Unigrams and Bigrams and Trigrams"
   ]
  },
  {
   "cell_type": "code",
   "execution_count": 14,
   "id": "c2cfdbb4",
   "metadata": {},
   "outputs": [
    {
     "ename": "KeyboardInterrupt",
     "evalue": "",
     "output_type": "error",
     "traceback": [
      "\u001b[1;31m---------------------------------------------------------------------------\u001b[0m",
      "\u001b[1;31mKeyboardInterrupt\u001b[0m                         Traceback (most recent call last)",
      "\u001b[1;32m~\\AppData\\Local\\Temp/ipykernel_13564/2207232872.py\u001b[0m in \u001b[0;36m<module>\u001b[1;34m\u001b[0m\n\u001b[0;32m      1\u001b[0m \u001b[0mtfidf_vectorizer_ngram3\u001b[0m \u001b[1;33m=\u001b[0m \u001b[0mTfidfVectorizer\u001b[0m\u001b[1;33m(\u001b[0m\u001b[0manalyzer\u001b[0m\u001b[1;33m=\u001b[0m\u001b[1;34m'word'\u001b[0m\u001b[1;33m,\u001b[0m \u001b[0mtoken_pattern\u001b[0m\u001b[1;33m=\u001b[0m\u001b[1;34mr'\\w{1,}'\u001b[0m\u001b[1;33m,\u001b[0m \u001b[0mngram_range\u001b[0m\u001b[1;33m=\u001b[0m\u001b[1;33m(\u001b[0m\u001b[1;36m1\u001b[0m\u001b[1;33m,\u001b[0m\u001b[1;36m3\u001b[0m\u001b[1;33m)\u001b[0m\u001b[1;33m,\u001b[0m \u001b[0mmax_features\u001b[0m\u001b[1;33m=\u001b[0m\u001b[1;36m27500\u001b[0m\u001b[1;33m)\u001b[0m\u001b[1;33m\u001b[0m\u001b[1;33m\u001b[0m\u001b[0m\n\u001b[1;32m----> 2\u001b[1;33m \u001b[0mtfidf_vectorizer_ngram3\u001b[0m\u001b[1;33m.\u001b[0m\u001b[0mfit\u001b[0m\u001b[1;33m(\u001b[0m\u001b[0mX_train\u001b[0m\u001b[1;33m)\u001b[0m\u001b[1;33m\u001b[0m\u001b[1;33m\u001b[0m\u001b[0m\n\u001b[0m\u001b[0;32m      3\u001b[0m \u001b[0mx_train_tfidf_ngram3\u001b[0m \u001b[1;33m=\u001b[0m \u001b[0mtfidf_vectorizer_ngram3\u001b[0m\u001b[1;33m.\u001b[0m\u001b[0mtransform\u001b[0m\u001b[1;33m(\u001b[0m\u001b[0mX_train\u001b[0m\u001b[1;33m)\u001b[0m\u001b[1;33m\u001b[0m\u001b[1;33m\u001b[0m\u001b[0m\n\u001b[0;32m      4\u001b[0m \u001b[0mx_test_tfidf_ngram3\u001b[0m \u001b[1;33m=\u001b[0m \u001b[0mtfidf_vectorizer_ngram3\u001b[0m\u001b[1;33m.\u001b[0m\u001b[0mtransform\u001b[0m\u001b[1;33m(\u001b[0m\u001b[0mX_test\u001b[0m\u001b[1;33m)\u001b[0m\u001b[1;33m\u001b[0m\u001b[1;33m\u001b[0m\u001b[0m\n",
      "\u001b[1;32m~\\anaconda3\\lib\\site-packages\\sklearn\\feature_extraction\\text.py\u001b[0m in \u001b[0;36mfit\u001b[1;34m(self, raw_documents, y)\u001b[0m\n\u001b[0;32m   1821\u001b[0m         \u001b[0mself\u001b[0m\u001b[1;33m.\u001b[0m\u001b[0m_check_params\u001b[0m\u001b[1;33m(\u001b[0m\u001b[1;33m)\u001b[0m\u001b[1;33m\u001b[0m\u001b[1;33m\u001b[0m\u001b[0m\n\u001b[0;32m   1822\u001b[0m         \u001b[0mself\u001b[0m\u001b[1;33m.\u001b[0m\u001b[0m_warn_for_unused_params\u001b[0m\u001b[1;33m(\u001b[0m\u001b[1;33m)\u001b[0m\u001b[1;33m\u001b[0m\u001b[1;33m\u001b[0m\u001b[0m\n\u001b[1;32m-> 1823\u001b[1;33m         \u001b[0mX\u001b[0m \u001b[1;33m=\u001b[0m \u001b[0msuper\u001b[0m\u001b[1;33m(\u001b[0m\u001b[1;33m)\u001b[0m\u001b[1;33m.\u001b[0m\u001b[0mfit_transform\u001b[0m\u001b[1;33m(\u001b[0m\u001b[0mraw_documents\u001b[0m\u001b[1;33m)\u001b[0m\u001b[1;33m\u001b[0m\u001b[1;33m\u001b[0m\u001b[0m\n\u001b[0m\u001b[0;32m   1824\u001b[0m         \u001b[0mself\u001b[0m\u001b[1;33m.\u001b[0m\u001b[0m_tfidf\u001b[0m\u001b[1;33m.\u001b[0m\u001b[0mfit\u001b[0m\u001b[1;33m(\u001b[0m\u001b[0mX\u001b[0m\u001b[1;33m)\u001b[0m\u001b[1;33m\u001b[0m\u001b[1;33m\u001b[0m\u001b[0m\n\u001b[0;32m   1825\u001b[0m         \u001b[1;32mreturn\u001b[0m \u001b[0mself\u001b[0m\u001b[1;33m\u001b[0m\u001b[1;33m\u001b[0m\u001b[0m\n",
      "\u001b[1;32m~\\anaconda3\\lib\\site-packages\\sklearn\\feature_extraction\\text.py\u001b[0m in \u001b[0;36mfit_transform\u001b[1;34m(self, raw_documents, y)\u001b[0m\n\u001b[0;32m   1218\u001b[0m                     \"max_df corresponds to < documents than min_df\")\n\u001b[0;32m   1219\u001b[0m             \u001b[1;32mif\u001b[0m \u001b[0mmax_features\u001b[0m \u001b[1;32mis\u001b[0m \u001b[1;32mnot\u001b[0m \u001b[1;32mNone\u001b[0m\u001b[1;33m:\u001b[0m\u001b[1;33m\u001b[0m\u001b[1;33m\u001b[0m\u001b[0m\n\u001b[1;32m-> 1220\u001b[1;33m                 \u001b[0mX\u001b[0m \u001b[1;33m=\u001b[0m \u001b[0mself\u001b[0m\u001b[1;33m.\u001b[0m\u001b[0m_sort_features\u001b[0m\u001b[1;33m(\u001b[0m\u001b[0mX\u001b[0m\u001b[1;33m,\u001b[0m \u001b[0mvocabulary\u001b[0m\u001b[1;33m)\u001b[0m\u001b[1;33m\u001b[0m\u001b[1;33m\u001b[0m\u001b[0m\n\u001b[0m\u001b[0;32m   1221\u001b[0m             X, self.stop_words_ = self._limit_features(X, vocabulary,\n\u001b[0;32m   1222\u001b[0m                                                        \u001b[0mmax_doc_count\u001b[0m\u001b[1;33m,\u001b[0m\u001b[1;33m\u001b[0m\u001b[1;33m\u001b[0m\u001b[0m\n",
      "\u001b[1;32m~\\anaconda3\\lib\\site-packages\\sklearn\\feature_extraction\\text.py\u001b[0m in \u001b[0;36m_sort_features\u001b[1;34m(self, X, vocabulary)\u001b[0m\n\u001b[0;32m   1046\u001b[0m         \u001b[0msorted_features\u001b[0m \u001b[1;33m=\u001b[0m \u001b[0msorted\u001b[0m\u001b[1;33m(\u001b[0m\u001b[0mvocabulary\u001b[0m\u001b[1;33m.\u001b[0m\u001b[0mitems\u001b[0m\u001b[1;33m(\u001b[0m\u001b[1;33m)\u001b[0m\u001b[1;33m)\u001b[0m\u001b[1;33m\u001b[0m\u001b[1;33m\u001b[0m\u001b[0m\n\u001b[0;32m   1047\u001b[0m         \u001b[0mmap_index\u001b[0m \u001b[1;33m=\u001b[0m \u001b[0mnp\u001b[0m\u001b[1;33m.\u001b[0m\u001b[0mempty\u001b[0m\u001b[1;33m(\u001b[0m\u001b[0mlen\u001b[0m\u001b[1;33m(\u001b[0m\u001b[0msorted_features\u001b[0m\u001b[1;33m)\u001b[0m\u001b[1;33m,\u001b[0m \u001b[0mdtype\u001b[0m\u001b[1;33m=\u001b[0m\u001b[0mX\u001b[0m\u001b[1;33m.\u001b[0m\u001b[0mindices\u001b[0m\u001b[1;33m.\u001b[0m\u001b[0mdtype\u001b[0m\u001b[1;33m)\u001b[0m\u001b[1;33m\u001b[0m\u001b[1;33m\u001b[0m\u001b[0m\n\u001b[1;32m-> 1048\u001b[1;33m         \u001b[1;32mfor\u001b[0m \u001b[0mnew_val\u001b[0m\u001b[1;33m,\u001b[0m \u001b[1;33m(\u001b[0m\u001b[0mterm\u001b[0m\u001b[1;33m,\u001b[0m \u001b[0mold_val\u001b[0m\u001b[1;33m)\u001b[0m \u001b[1;32min\u001b[0m \u001b[0menumerate\u001b[0m\u001b[1;33m(\u001b[0m\u001b[0msorted_features\u001b[0m\u001b[1;33m)\u001b[0m\u001b[1;33m:\u001b[0m\u001b[1;33m\u001b[0m\u001b[1;33m\u001b[0m\u001b[0m\n\u001b[0m\u001b[0;32m   1049\u001b[0m             \u001b[0mvocabulary\u001b[0m\u001b[1;33m[\u001b[0m\u001b[0mterm\u001b[0m\u001b[1;33m]\u001b[0m \u001b[1;33m=\u001b[0m \u001b[0mnew_val\u001b[0m\u001b[1;33m\u001b[0m\u001b[1;33m\u001b[0m\u001b[0m\n\u001b[0;32m   1050\u001b[0m             \u001b[0mmap_index\u001b[0m\u001b[1;33m[\u001b[0m\u001b[0mold_val\u001b[0m\u001b[1;33m]\u001b[0m \u001b[1;33m=\u001b[0m \u001b[0mnew_val\u001b[0m\u001b[1;33m\u001b[0m\u001b[1;33m\u001b[0m\u001b[0m\n",
      "\u001b[1;31mKeyboardInterrupt\u001b[0m: "
     ]
    }
   ],
   "source": [
    "'''\n",
    "tfidf_vectorizer_ngram3 = TfidfVectorizer(analyzer='word', token_pattern=r'\\w{1,}', ngram_range=(1,3), max_features=27500)\n",
    "tfidf_vectorizer_ngram3.fit(X_train)\n",
    "x_train_tfidf_ngram3 = tfidf_vectorizer_ngram3.transform(X_train)\n",
    "x_test_tfidf_ngram3 = tfidf_vectorizer_ngram3.transform(X_test)"
   ]
  },
  {
   "cell_type": "markdown",
   "id": "eeaaa55b",
   "metadata": {},
   "source": [
    "#### Tfidf Vectorizer - Char Ngram(1, 2)"
   ]
  },
  {
   "cell_type": "code",
   "execution_count": 27,
   "id": "0b0d53e7",
   "metadata": {},
   "outputs": [
    {
     "name": "stderr",
     "output_type": "stream",
     "text": [
      "C:\\Users\\viveg\\anaconda3\\lib\\site-packages\\sklearn\\feature_extraction\\text.py:506: UserWarning: The parameter 'token_pattern' will not be used since 'analyzer' != 'word'\n",
      "  warnings.warn(\"The parameter 'token_pattern' will not be used\"\n"
     ]
    }
   ],
   "source": [
    "'''\n",
    "##Not feasible -- Too little information\n",
    "tfidf_vectorizer_char = TfidfVectorizer(analyzer='char', token_pattern=r'\\w{1,}', ngram_range=(1,2), max_features=5000)\n",
    "tfidf_vectorizer_char.fit(X_train)\n",
    "x_train_tfidf_char = tfidf_vectorizer_char.transform(X_train)\n",
    "x_test_tfidf_char = tfidf_vectorizer_char.transform(X_test)"
   ]
  },
  {
   "cell_type": "code",
   "execution_count": 20,
   "id": "fb01d9b8",
   "metadata": {},
   "outputs": [
    {
     "name": "stdout",
     "output_type": "stream",
     "text": [
      "0.1\n",
      "0.25\n"
     ]
    }
   ],
   "source": [
    "print(metrics.f1_score([2]*len(test_y), test_y, average='macro'))\n",
    "print(metrics.accuracy_score([2]*len(test_y), test_y))"
   ]
  },
  {
   "cell_type": "code",
   "execution_count": 180,
   "id": "bab312c7",
   "metadata": {},
   "outputs": [],
   "source": [
    "#Hyperparameter:\n",
    "alpha_value=1\n",
    "\n",
    "def train_model(model, X_train, y_train):\n",
    "    model.fit(X_train, y_train)\n",
    "    return model\n",
    "\n",
    "def predict(model, X_valid):\n",
    "    y_pred = model.predict(X_valid)\n",
    "    return y_pred"
   ]
  },
  {
   "cell_type": "code",
   "execution_count": 246,
   "id": "7053bccc",
   "metadata": {},
   "outputs": [
    {
     "name": "stdout",
     "output_type": "stream",
     "text": [
      "Count vectorizer f1_score is 0.6665350822689343\n",
      "Count vectorizer accuracy is 0.6806666666666666\n"
     ]
    }
   ],
   "source": [
    "naive_bayes_count_model = train_model(naive_bayes.MultinomialNB(alpha=alpha_value), x_train_count, train_y)\n",
    "y_pred_nb_count = predict(naive_bayes_count_model, x_test_count)\n",
    "nb_count_f1_score = metrics.f1_score(y_pred_nb_count, test_y, average='macro')\n",
    "nb_count_accuracy_score = metrics.accuracy_score(y_pred_nb_count, test_y)\n",
    "print(\"Count vectorizer f1_score is \" + str(nb_count_f1_score))\n",
    "print(\"Count vectorizer accuracy is \" + str(nb_count_accuracy_score))"
   ]
  },
  {
   "cell_type": "code",
   "execution_count": null,
   "id": "d08ab2bf",
   "metadata": {},
   "outputs": [],
   "source": [
    "'''\n",
    "Count vectorizer f1 and accuracy scores:\n",
    "No preprocessing:\n",
    "Count vectorizer f1_score is 0.6648366966603887\n",
    "Count vectorizer accuracy is 0.679\n",
    "Contractions removed:\n",
    "Count vectorizer f1_score is 0.6695618110202328\n",
    "Count vectorizer accuracy is 0.6866666666666666\n",
    "Stopwords removed:\n",
    "Count vectorizer f1_score is 0.6677972020499174\n",
    "Count vectorizer accuracy is 0.6806666666666666\n",
    "Punctuation removed:\n",
    "Count vectorizer f1_score is 0.6264366613111475\n",
    "Count vectorizer accuracy is 0.6536666666666666\n",
    "Stopwords and contractions removed:\n",
    "Count vectorizer f1_score is 0.6669255857862734\n",
    "Count vectorizer accuracy is 0.6823333333333333\n",
    "Stopwords and punctuation removed:\n",
    "Count vectorizer f1_score is 0.6261753209216978\n",
    "Count vectorizer accuracy is 0.6506666666666666\n",
    "Contractions and punctuation removed:\n",
    "Count vectorizer f1_score is 0.6255990239756839\n",
    "Count vectorizer accuracy is 0.6533333333333333\n",
    "Stopwords, contractions and punctuation removed:\n",
    "Count vectorizer f1_score is 0.6288138324436103\n",
    "Count vectorizer accuracy is 0.6533333333333333\n",
    "Lemmatized:\n",
    "Count vectorizer f1_score is 0.6640627955785731\n",
    "Count vectorizer accuracy is 0.6776666666666666\n",
    "Lemmatized with contractions removed:\n",
    "Count vectorizer f1_score is 0.6690216115480041\n",
    "Count vectorizer accuracy is 0.6853333333333333\n",
    "Lemmatized with stopwords and contractions removed:\n",
    "Count vectorizer f1_score is 0.6645455317554574\n",
    "Count vectorizer accuracy is 0.6796666666666666\n",
    "Lemmatized with punctuation and contractions removed:\n",
    "Count vectorizer f1_score is 0.6209725947745535\n",
    "Count vectorizer accuracy is 0.6496666666666666\n",
    "Stemmed with contractions removed:\n",
    "Count vectorizer f1_score is 0.6560708632341219\n",
    "Count vectorizer accuracy is 0.674\n",
    "Stemmed with stopwords and contractions removed:\n",
    "Count vectorizer f1_score is 0.6523107919499966\n",
    "Count vectorizer accuracy is 0.6686666666666666\n",
    "Stemmed with punctuation and contractions removed:\n",
    "Count vectorizer f1_score is 0.61318342513182\n",
    "Count vectorizer accuracy is 0.643\n",
    "Stemmed:\n",
    "Count vectorizer f1_score is 0.6592195586487739\n",
    "Count vectorizer accuracy is 0.674\n",
    "'''\n",
    "'''\n",
    "New preprocessor:\n",
    "No preprocessing:\n",
    "Count vectorizer f1_score is 0.6605962257434558\n",
    "Count vectorizer accuracy is 0.676\n",
    "Punctuation removed:\n",
    "Count vectorizer f1_score is 0.6608669114101966\n",
    "Count vectorizer accuracy is 0.6763333333333333\n",
    "Case folding:\n",
    "Count vectorizer f1_score is 0.6652860068024109\n",
    "Count vectorizer accuracy is 0.6793333333333333\n",
    "Stopwords removed:\n",
    "Count vectorizer f1_score is 0.6505969425554999\n",
    "Count vectorizer accuracy is 0.6623333333333333\n",
    "Stopwords removed and case folding:\n",
    "Count vectorizer f1_score is 0.6618306648177975\n",
    "Count vectorizer accuracy is 0.6736666666666666\n",
    "Punctuation removed and case folding:\n",
    "Count vectorizer f1_score is 0.6658490233722193\n",
    "Count vectorizer accuracy is 0.68\n",
    "Stopwords and pucntuation removed:\n",
    "Count vectorizer f1_score is 0.6508342891131483\n",
    "Count vectorizer accuracy is 0.6626666666666666\n",
    "Stopwords removed and punctuation removed and case folding:\n",
    "Count vectorizer f1_score is 0.6623934412247338\n",
    "Count vectorizer accuracy is 0.6743333333333333\n",
    "Stemmed with case folding:\n",
    "Count vectorizer f1_score is 0.6627021965987446\n",
    "Count vectorizer accuracy is 0.675\n",
    "Lemmatized with case folding:\n",
    "Count vectorizer f1_score is 0.6665350822689343\n",
    "Count vectorizer accuracy is 0.6806666666666666\n",
    "'''"
   ]
  },
  {
   "cell_type": "code",
   "execution_count": 247,
   "id": "4589bd11",
   "metadata": {},
   "outputs": [
    {
     "name": "stdout",
     "output_type": "stream",
     "text": [
      "Tfidf word f1_score is 0.6793754330291637\n",
      "Tfidf word accuracy is 0.683\n"
     ]
    }
   ],
   "source": [
    "naive_bayes_tfidf_word_model = train_model(naive_bayes.MultinomialNB(alpha=alpha_value), x_train_tfidf_word, train_y)\n",
    "y_pred_nb_tfidf_word = predict(naive_bayes_tfidf_word_model, x_test_tfidf_word)\n",
    "nb_tfidf_word_f1_score = metrics.f1_score(y_pred_nb_tfidf_word, test_y, average='macro')\n",
    "nb_tfidf_word_accuracy_score = metrics.accuracy_score(y_pred_nb_tfidf_word, test_y)\n",
    "print(\"Tfidf word f1_score is \" + str(nb_tfidf_word_f1_score))\n",
    "print(\"Tfidf word accuracy is \" + str(nb_tfidf_word_accuracy_score))"
   ]
  },
  {
   "cell_type": "code",
   "execution_count": 77,
   "id": "7d3a8149",
   "metadata": {},
   "outputs": [
    {
     "data": {
      "text/plain": [
       "'\\nStopwords removed and punctuation removed:\\nTfidf word f1_score is3 0.6834935161682985\\nTfidf word accuracy is3 0.6853333333333333\\nStopwords removed:\\nTfidf word f1_score is3 0.6838634571798237\\nTfidf word accuracy is3 0.6856666666666666\\nNo preprocessing:\\nTfidf word f1_score is3 0.6845608624697852\\nTfidf word accuracy is3 0.688\\nLower case:\\nTfidf word f1_score is3 0.6845608624697852\\nTfidf word accuracy is3 0.688\\nPunctuation removed:\\nTfidf word f1_score is3 0.6845608624697852\\nTfidf word accuracy is3 0.688\\n\\n'"
      ]
     },
     "execution_count": 77,
     "metadata": {},
     "output_type": "execute_result"
    }
   ],
   "source": [
    "'''\n",
    "Tfidf word f1 and accuracy scores:\n",
    "No preprocessing:\n",
    "Tfidf word f1_score is 0.683878861491291\n",
    "Tfidf word accuracy is 0.6873333333333334\n",
    "Contractions removed:\n",
    "Tfidf word f1_score is 0.6854522538517311\n",
    "Tfidf word accuracy is 0.6906666666666667\n",
    "Stopwords removed:\n",
    "Tfidf word f1_score is 0.689722124862688\n",
    "Tfidf word accuracy is 0.6923333333333334\n",
    "Punctuation removed:\n",
    "Tfidf word f1_score is 0.6776867759945222\n",
    "Tfidf word accuracy is 0.683\n",
    "Stopwords and contractions removed:\n",
    "Tfidf word f1_score is 0.6891682040511752\n",
    "Tfidf word accuracy is 0.693\n",
    "Stopwords and punctuation removed:\n",
    "Tfidf word f1_score is 0.6819728764781524\n",
    "Tfidf word accuracy is 0.6853333333333333\n",
    "Contractions and punctuation removed:\n",
    "Tfidf word f1_score is 0.6781793402029098\n",
    "Tfidf word accuracy is 0.683\n",
    "Stopwords, contractions and punctuation removed:\n",
    "Tfidf word f1_score is 0.6827353091503914\n",
    "Tfidf word accuracy is 0.686\n",
    "Lemmatized:\n",
    "Tfidf word f1_score is 0.6700652915974927\n",
    "Tfidf word accuracy is 0.6736666666666666\n",
    "Lemmatized with contractions removed:\n",
    "Tfidf word f1_score is 0.6759027511881394\n",
    "Tfidf word accuracy is 0.6813333333333333\n",
    "Lemmatized with contractions and stopwords removed:\n",
    "Tfidf word f1_score is 0.6784250758928283\n",
    "Tfidf word accuracy is 0.6823333333333333\n",
    "Lemmatized with punctuation and contractions removed:\n",
    "Tfidf word f1_score is 0.663616607958018\n",
    "Tfidf word accuracy is 0.6686666666666666\n",
    "Stemmed with contractions removed:\n",
    "Tfidf word f1_score is 0.6709296131945277\n",
    "Tfidf word accuracy is 0.6763333333333333\n",
    "Stemmed with contractions and stopwords removed:\n",
    "Tfidf word f1_score is 0.6725619904366508\n",
    "Tfidf word accuracy is 0.6766666666666666\n",
    "Stemmed with punctuation and contractions removed:\n",
    "Tfidf word f1_score is 0.6605212266562899\n",
    "Tfidf word accuracy is 0.6656666666666666\n",
    "Stemmed:\n",
    "Tfidf word f1_score is 0.6681187495585874\n",
    "Tfidf word accuracy is 0.672\n",
    "'''\n",
    "\n",
    "'''\n",
    "New preprocessor:\n",
    "No preprocessing:\n",
    "Tfidf word f1_score is 0.6863827846238891\n",
    "Tfidf word accuracy is 0.6893333333333334\n",
    "Case folding:\n",
    "Tfidf word f1_score is 0.6845608624697852\n",
    "Tfidf word accuracy is 0.688\n",
    "Stopword removal:\n",
    "Tfidf word f1_score is 0.6888903971314111\n",
    "Tfidf word accuracy is 0.6903333333333334\n",
    "Punctuation removal:\n",
    "Tfidf word f1_score is 0.6863827846238891\n",
    "Tfidf word accuracy is 0.6893333333333334\n",
    "Stopword removal with case folding:\n",
    "Tfidf word f1_score is 0.6838634571798237\n",
    "Tfidf word accuracy is 0.6856666666666666\n",
    "Punctuation removal with case folding:\n",
    "Tfidf word f1_score is 0.6845608624697852\n",
    "Tfidf word accuracy is 0.688\n",
    "Stopword and punctuation removal:\n",
    "Tfidf word f1_score is 0.6888903971314111\n",
    "Tfidf word accuracy is 0.6903333333333334\n",
    "Stopword and punctuation removal with case folding:\n",
    "Tfidf word f1_score is 0.6834935161682985\n",
    "Tfidf word accuracy is 0.6853333333333333\n",
    "Stemmed with case folding:\n",
    "Tfidf word f1_score is 0.6693093278147153\n",
    "Tfidf word accuracy is 0.673\n",
    "Lemmatized with case folding:\n",
    "Tfidf word f1_score is 0.6793754330291637\n",
    "Tfidf word accuracy is 0.683\n",
    "\n",
    "\n",
    "\n",
    "'''"
   ]
  },
  {
   "cell_type": "code",
   "execution_count": 253,
   "id": "b08649f7",
   "metadata": {},
   "outputs": [
    {
     "name": "stdout",
     "output_type": "stream",
     "text": [
      "Tfidf ngram2 f1_score is 0.69442532067018\n",
      "Tfidf ngram2 accuracy is 0.6983333333333334\n"
     ]
    }
   ],
   "source": [
    "naive_bayes_tfidf_ngram2_model = train_model(naive_bayes.MultinomialNB(alpha=alpha_value), x_train_tfidf_ngram2, train_y)\n",
    "y_pred_nb_tfidf_ngram2 = predict(naive_bayes_tfidf_ngram2_model, x_test_tfidf_ngram2)\n",
    "nb_tfidf_ngram2_f1_score = metrics.f1_score(y_pred_nb_tfidf_ngram2, test_y, average='macro')\n",
    "nb_tfidf_ngram2_accuracy_score = metrics.accuracy_score(y_pred_nb_tfidf_ngram2, test_y)\n",
    "print(\"Tfidf ngram2 f1_score is \" + str(nb_tfidf_ngram2_f1_score))\n",
    "print(\"Tfidf ngram2 accuracy is \" + str(nb_tfidf_ngram2_accuracy_score))"
   ]
  },
  {
   "cell_type": "code",
   "execution_count": 203,
   "id": "d89e0da1",
   "metadata": {},
   "outputs": [
    {
     "data": {
      "text/plain": [
       "'\\nNew preprocessor:\\nNo preprocessing (25K):\\nTfidf ngram2 f1_score is 0.6861357773512551\\nTfidf ngram2 accuracy is 0.6903333333333334\\nCase folding:\\nTfidf ngram2 f1_score is 0.69442532067018\\nTfidf ngram2 accuracy is 0.6983333333333334\\nStopword removal:\\n\\n\\nStopwords removed and lowercase:\\nTfidf ngram2 f1_score is 0.6871153451437382\\nTfidf ngram2 accuracy is 0.6883333333333334\\nStopwords removed and punctuation removed and lowercase:\\nTfidf ngram2 f1_score is 0.6874877737745918\\nTfidf ngram2 accuracy is 0.6886666666666666\\nPunctuation removed and lowercase:\\nTfidf ngram2 f1_score is3 0.6927363814682612\\nTfidf ngram2 accuracy is3 0.6966666666666667\\n\\nLower case (22.5K):\\nTfidf ngram2 f1_score is3 0.6934778512658694\\nTfidf ngram2 accuracy is3 0.6973333333333334\\n25K:\\nTfidf ngram2 f1_score is 0.69442532067018\\nTfidf ngram2 accuracy is 0.6983333333333334\\n27.5K:\\nTfidf ngram2 f1_score is 0.6922133381924681\\nTfidf ngram2 accuracy is 0.6963333333333334\\n'"
      ]
     },
     "execution_count": 203,
     "metadata": {},
     "output_type": "execute_result"
    }
   ],
   "source": [
    "'''\n",
    "Tfidf ngram2 f1 and accuracy scores:\n",
    "No preprocessing(20K):\n",
    "Tfidf ngram2 f1_score is 0.6904927036593713\n",
    "Tfidf ngram2 accuracy is 0.695\n",
    "Contractions removed(20K):\n",
    "Tfidf ngram2 f1_score is 0.6957307273163922\n",
    "Tfidf ngram2 accuracy is 0.703\n",
    "Stopwords removed(20K):\n",
    "Tfidf ngram2 f1_score is 0.6878052273096324\n",
    "Tfidf ngram2 accuracy is 0.6893333333333334\n",
    "Punctuation removed(20K):\n",
    "Tfidf ngram2 f1_score is 0.6844410490110763\n",
    "Tfidf ngram2 accuracy is 0.6913333333333334\n",
    "Stopwords and contractions removed(20K):\n",
    "Tfidf ngram2 f1_score is 0.7010536400814287\n",
    "Tfidf ngram2 accuracy is 0.7036666666666667\n",
    "Stopwords and punctuation removed(20K):\n",
    "Tfidf ngram2 f1_score is 0.6891452524608814\n",
    "Tfidf ngram2 accuracy is 0.691\n",
    "Contractions and punctuation removed (20K):\n",
    "Tfidf ngram2 f1_score is 0.6827694473244238\n",
    "Tfidf ngram2 accuracy is 0.6896666666666667\n",
    "Stopwords, contractions and punctuation removed (20K):\n",
    "Tfidf ngram2 f1_score is 0.6916478434781799\n",
    "Tfidf ngram2 accuracy is 0.6936666666666667\n",
    "Lemmatized(20K):\n",
    "Tfidf ngram2 f1_score is 0.6905142045790961\n",
    "Tfidf ngram2 accuracy is 0.6943333333333334\n",
    "Lemmatized with contractions removed (20K):\n",
    "Tfidf ngram2 f1_score is 0.6951674648051098\n",
    "Tfidf ngram2 accuracy is 0.702\n",
    "Lemmatized with stopwords and contractions removed (20K):\n",
    "Tfidf ngram2 f1_score is 0.6958286539392421\n",
    "Tfidf ngram2 accuracy is 0.6986666666666667\n",
    "Lemmatized with punctuation and contractions removed (20K):\n",
    "Tfidf ngram2 f1_score is 0.6837571122200548\n",
    "Tfidf ngram2 accuracy is 0.6903333333333334\n",
    "Stemmed with contractions removed (20K):\n",
    "Tfidf ngram2 f1_score is 0.6885835360684373\n",
    "Tfidf ngram2 accuracy is 0.696\n",
    "Stemmed with contractions and stopwords removed (20K):\n",
    "Tfidf ngram2 f1_score is 0.6932509882462328\n",
    "Tfidf ngram2 accuracy is 0.697\n",
    "Stemmed with punctuation and contractions removed (20K):\n",
    "Tfidf ngram2 f1_score is 0.6740400047721969\n",
    "Tfidf ngram2 accuracy is 0.6816666666666666\n",
    "Stemmed (20K):\n",
    "Tfidf ngram2 f1_score is 0.6810769148224473\n",
    "Tfidf ngram2 accuracy is 0.6863333333333334\n",
    "'''\n",
    "\n",
    "'''\n",
    "New preprocessor:\n",
    "No preprocessing (25K):\n",
    "Tfidf ngram2 f1_score is 0.6861357773512551\n",
    "Tfidf ngram2 accuracy is 0.6903333333333334\n",
    "Case folding:\n",
    "Tfidf ngram2 f1_score is 0.69442532067018\n",
    "Tfidf ngram2 accuracy is 0.6983333333333334\n",
    "Stopword removal:\n",
    "Tfidf ngram2 f1_score is 0.6823236331722874\n",
    "Tfidf ngram2 accuracy is 0.6833333333333333\n",
    "Punctuation removal:\n",
    "Tfidf ngram2 f1_score is 0.6858057709556158\n",
    "Tfidf ngram2 accuracy is 0.69\n",
    "Stopword removal with case folding:\n",
    "Tfidf ngram2 f1_score is 0.6856204471229342\n",
    "Tfidf ngram2 accuracy is 0.687\n",
    "Punctuation removal with case folding:\n",
    "Tfidf ngram2 f1_score is 0.6944109047073916\n",
    "Tfidf ngram2 accuracy is 0.6983333333333334\n",
    "Stopword and punctuation removal:\n",
    "Tfidf ngram2 f1_score is 0.6819949511926823\n",
    "Tfidf ngram2 accuracy is 0.683\n",
    "Stopword and punctuation removal with case folding:\n",
    "Tfidf ngram2 f1_score is 0.6862762490000844\n",
    "Tfidf ngram2 accuracy is 0.6876666666666666\n",
    "Stemmed with case folding:\n",
    "Tfidf ngram2 f1_score is 0.6819228180583291\n",
    "Tfidf ngram2 accuracy is 0.686\n",
    "Lemmatized with case folding:\n",
    "Tfidf ngram2 f1_score is 0.6909527289726216\n",
    "Tfidf ngram2 accuracy is 0.695\n",
    "\n",
    "\n",
    "\n",
    "\n",
    "Stopwords removed and lowercase:\n",
    "Tfidf ngram2 f1_score is 0.6871153451437382\n",
    "Tfidf ngram2 accuracy is 0.6883333333333334\n",
    "Stopwords removed and punctuation removed and lowercase:\n",
    "Tfidf ngram2 f1_score is 0.6874877737745918\n",
    "Tfidf ngram2 accuracy is 0.6886666666666666\n",
    "Punctuation removed and lowercase:\n",
    "Tfidf ngram2 f1_score is3 0.6927363814682612\n",
    "Tfidf ngram2 accuracy is3 0.6966666666666667\n",
    "\n",
    "Lower case (22.5K):\n",
    "Tfidf ngram2 f1_score is3 0.6934778512658694\n",
    "Tfidf ngram2 accuracy is3 0.6973333333333334\n",
    "25K:\n",
    "Tfidf ngram2 f1_score is 0.69442532067018\n",
    "Tfidf ngram2 accuracy is 0.6983333333333334\n",
    "27.5K:\n",
    "Tfidf ngram2 f1_score is 0.6922133381924681\n",
    "Tfidf ngram2 accuracy is 0.6963333333333334\n",
    "'''"
   ]
  },
  {
   "cell_type": "code",
   "execution_count": null,
   "id": "ed0f0464",
   "metadata": {},
   "outputs": [],
   "source": [
    "'''\n",
    "Old preprocessor:\n",
    "20K:\n",
    "Tfidf ngram2 f1_score is 0.7010536400814287\n",
    "Tfidf ngram2 accuracy is 0.7036666666666667\n",
    "22.5K:\n",
    "Tfidf ngram2 f1_score is3 0.7031548610166312\n",
    "Tfidf ngram2 accuracy is3 0.706\n",
    "25K:\n",
    "Tfidf ngram2 f1_score is3 0.7013423559016413\n",
    "Tfidf ngram2 accuracy is3 0.7046666666666667\n",
    "30K:\n",
    "Tfidf ngram2 f1_score is 0.6942318664030661\n",
    "Tfidf ngram2 accuracy is 0.6983333333333334\n",
    "'''"
   ]
  },
  {
   "cell_type": "code",
   "execution_count": 265,
   "id": "bfbdf9b6",
   "metadata": {},
   "outputs": [
    {
     "name": "stdout",
     "output_type": "stream",
     "text": [
      "Tfidf bigram f1_score is 0.6474050032384886\n",
      "Tfidf bigram accuracy is 0.654\n"
     ]
    }
   ],
   "source": [
    "naive_bayes_tfidf_bigram_model = train_model(naive_bayes.MultinomialNB(alpha=alpha_value), x_train_tfidf_bigram, train_y)\n",
    "y_pred_nb_tfidf_bigram = predict(naive_bayes_tfidf_bigram_model, x_test_tfidf_bigram)\n",
    "nb_tfidf_bigram_f1_score = metrics.f1_score(y_pred_nb_tfidf_bigram, test_y, average='macro')\n",
    "nb_tfidf_bigram_accuracy_score = metrics.accuracy_score(y_pred_nb_tfidf_bigram, test_y)\n",
    "print(\"Tfidf bigram f1_score is \" + str(nb_tfidf_bigram_f1_score))\n",
    "print(\"Tfidf bigram accuracy is \" + str(nb_tfidf_bigram_accuracy_score))"
   ]
  },
  {
   "cell_type": "code",
   "execution_count": 25,
   "id": "b8688b36",
   "metadata": {},
   "outputs": [
    {
     "name": "stdout",
     "output_type": "stream",
     "text": [
      "Tfidf ngram3 f1_score is 0.7014788671281995\n",
      "Tfidf ngram3 accuracy is 0.7046666666666667\n"
     ]
    }
   ],
   "source": [
    "naive_bayes_tfidf_ngram3_model = train_model(naive_bayes.MultinomialNB(alpha=alpha_value), x_train_tfidf_ngram3, train_y)\n",
    "y_pred_nb_tfidf_ngram3 = predict(naive_bayes_tfidf_ngram3_model, x_test_tfidf_ngram3)\n",
    "nb_tfidf_ngram3_f1_score = metrics.f1_score(y_pred_nb_tfidf_ngram3, test_y, average='macro')\n",
    "nb_tfidf_ngram3_accuracy_score = metrics.accuracy_score(y_pred_nb_tfidf_ngram3, test_y)\n",
    "print(\"Tfidf ngram3 f1_score is \" + str(nb_tfidf_ngram3_f1_score))\n",
    "print(\"Tfidf ngram3 accuracy is \" + str(nb_tfidf_ngram3_accuracy_score))"
   ]
  },
  {
   "cell_type": "code",
   "execution_count": 59,
   "id": "7210024d",
   "metadata": {},
   "outputs": [
    {
     "data": {
      "text/plain": [
       "'\\nTfidf ngram3 f1 and accuracy scores:\\nStopwords and contractions removed:\\n10K\\nTfidf ngram3 f1_score is 0.6599841938542438\\nTfidf ngram3 accuracy is 0.6673333333333333\\n20K\\nTfidf ngram3 f1_score is 0.680573686001227\\nTfidf ngram3 accuracy is 0.6856666666666666\\n30K:\\nTfidf ngram3 f1_score is 0.701722568869707\\nTfidf ngram3 accuracy is 0.7043333333333334\\n32.5K:\\nTfidf ngram3 f1_score is 0.7014788671281995\\nTfidf ngram3 accuracy is 0.7046666666666667\\n35K:\\nTfidf ngram3 f1_score is 0.7006009300510596\\nTfidf ngram3 accuracy is 0.7043333333333334\\n40K:\\nTfidf ngram34 f1_score is 0.6933919572067218\\nTfidf ngram34 accuracy is 0.6986666666666667\\n'"
      ]
     },
     "execution_count": 59,
     "metadata": {},
     "output_type": "execute_result"
    }
   ],
   "source": [
    "'''\n",
    "Old preprocessor:\n",
    "Tfidf ngram3 f1 and accuracy scores:\n",
    "Stopwords and contractions removed:\n",
    "10K\n",
    "Tfidf ngram3 f1_score is 0.6599841938542438\n",
    "Tfidf ngram3 accuracy is 0.6673333333333333\n",
    "20K\n",
    "Tfidf ngram3 f1_score is 0.680573686001227\n",
    "Tfidf ngram3 accuracy is 0.6856666666666666\n",
    "30K:\n",
    "Tfidf ngram3 f1_score is 0.701722568869707\n",
    "Tfidf ngram3 accuracy is 0.7043333333333334\n",
    "32.5K:\n",
    "Tfidf ngram3 f1_score is 0.7014788671281995\n",
    "Tfidf ngram3 accuracy is 0.7046666666666667\n",
    "35K:\n",
    "Tfidf ngram3 f1_score is 0.7006009300510596\n",
    "Tfidf ngram3 accuracy is 0.7043333333333334\n",
    "40K:\n",
    "Tfidf ngram34 f1_score is 0.6933919572067218\n",
    "Tfidf ngram34 accuracy is 0.6986666666666667\n",
    "'''"
   ]
  },
  {
   "cell_type": "code",
   "execution_count": 28,
   "id": "ec578094",
   "metadata": {},
   "outputs": [
    {
     "name": "stdout",
     "output_type": "stream",
     "text": [
      "Tfidf char f1_score is 0.17134910257328878\n",
      "Tfidf char accuracy is 0.21066666666666667\n"
     ]
    }
   ],
   "source": [
    "naive_bayes_tfidf_char_model = train_model(naive_bayes.MultinomialNB(alpha=alpha_value), x_train_tfidf_char, train_y)\n",
    "y_pred_nb_tfidf_char = predict(naive_bayes_tfidf_char_model, x_test_tfidf_char)\n",
    "nb_tfidf_char_f1_score = metrics.f1_score(y_pred_nb_tfidf_char, test_y, average='macro')\n",
    "nb_tfidf_char_accuracy_score = metrics.accuracy_score(y_pred_nb_tfidf_char, test_y)\n",
    "print(\"Tfidf char f1_score is \" + str(nb_tfidf_char_f1_score))\n",
    "print(\"Tfidf char accuracy is \" + str(nb_tfidf_char_accuracy_score))"
   ]
  },
  {
   "cell_type": "code",
   "execution_count": null,
   "id": "4f848aad",
   "metadata": {},
   "outputs": [],
   "source": [
    "'''\n",
    "Tfidf char f1 and accuracy scores:\n",
    "Stopwords and contractions removed:\n",
    "Tfidf char f1_score is 0.17134910257328878\n",
    "Tfidf char accuracy is 0.21066666666666667\n",
    "'''"
   ]
  },
  {
   "cell_type": "code",
   "execution_count": 254,
   "id": "9e721d1a",
   "metadata": {},
   "outputs": [],
   "source": [
    "##Best Result of Feature Engineering:\n",
    "best_x_train = x_train_tfidf_ngram2\n",
    "best_y_train = train_y\n",
    "best_x_test = x_test_tfidf_ngram2\n",
    "best_y_test = test_y\n"
   ]
  },
  {
   "cell_type": "code",
   "execution_count": 259,
   "id": "254f1396",
   "metadata": {},
   "outputs": [
    {
     "name": "stdout",
     "output_type": "stream",
     "text": [
      "Tfidf ngram2 f1_score is 0.6991832045205303\n",
      "Tfidf ngram2 accuracy is 0.7023333333333334\n"
     ]
    }
   ],
   "source": [
    "#Tune hyperparameter alpha\n",
    "alpha_value = 0.45\n",
    "\n",
    "best_model = train_model(naive_bayes.MultinomialNB(alpha=alpha_value), best_x_train, best_y_train)\n",
    "best_y_pred = predict(best_model, best_x_test)\n",
    "best_f1_score = metrics.f1_score(best_y_pred, best_y_test, average='macro')\n",
    "best_accuracy_score = metrics.accuracy_score(best_y_pred, best_y_test)\n",
    "print(\"Tfidf ngram2 f1_score is \" + str(best_f1_score))\n",
    "print(\"Tfidf ngram2 accuracy is \" + str(best_accuracy_score))\n"
   ]
  },
  {
   "cell_type": "code",
   "execution_count": 45,
   "id": "b8424ff1",
   "metadata": {},
   "outputs": [
    {
     "data": {
      "text/plain": [
       "'\\n0.5\\nTfidf ngram2 f1_score is 0.6955135766467679\\nTfidf ngram2 accuracy is 0.699\\n'"
      ]
     },
     "execution_count": 45,
     "metadata": {},
     "output_type": "execute_result"
    }
   ],
   "source": [
    "'''\n",
    "0 (No smoothing - Warning for numberic errors, set to be 1.0e-10):\n",
    "Tfidf ngram2 f1_score is 0.6491445051566886\n",
    "Tfidf ngram2 accuracy is 0.662\n",
    "0.01:\n",
    "Tfidf ngram2 f1_score is 0.6911064705211117\n",
    "Tfidf ngram2 accuracy is 0.6956666666666667\n",
    "0.1:\n",
    "Tfidf ngram2 f1_score is 0.7001699048765011\n",
    "Tfidf ngram2 accuracy is 0.7033333333333334\n",
    "0.2:\n",
    "Tfidf ngram2 f1_score is 0.7046035154671063\n",
    "Tfidf ngram2 accuracy is 0.7073333333333334\n",
    "0.3:\n",
    "Tfidf ngram2 f1_score is 0.7045687893685062\n",
    "Tfidf ngram2 accuracy is 0.707\n",
    "0.4:\n",
    "Tfidf ngram2 f1_score is 0.7056049455059195\n",
    "Tfidf ngram2 accuracy is 0.708\n",
    "0.5:\n",
    "Tfidf ngram2 f1_score is 0.7056318202123468\n",
    "Tfidf ngram2 accuracy is 0.708\n",
    "0.6:\n",
    "Tfidf ngram2 f1_score is 0.7059033059446803\n",
    "Tfidf ngram2 accuracy is 0.7083333333333334\n",
    "0.7:\n",
    "Tfidf ngram2 f1_score is 0.7052258822271097\n",
    "Tfidf ngram2 accuracy is 0.7076666666666667\n",
    "0.8:\n",
    "Tfidf ngram2 f1_score is 0.704470729712227\n",
    "Tfidf ngram2 accuracy is 0.707\n",
    "0.9:\n",
    "Tfidf ngram2 f1_score is 0.7029178732508483\n",
    "Tfidf ngram2 accuracy is 0.7056666666666667\n",
    "1.0:\n",
    "Tfidf ngram2 f1_score is 0.7031548610166312\n",
    "Tfidf ngram2 accuracy is 0.706\n",
    "1.5:\n",
    "Tfidf ngram2 f1_score is 0.6921531157530701\n",
    "Tfidf ngram2 accuracy is 0.6966666666666667\n",
    "2.0:\n",
    "Tfidf ngram2 f1_score is 0.6783961682606644\n",
    "Tfidf ngram2 accuracy is 0.6853333333333333\n",
    "3.0:\n",
    "Tfidf ngram2 f1_score is 0.6498251424597556\n",
    "Tfidf ngram2 accuracy is 0.663\n",
    "'''\n",
    "'''\n",
    "0.3\n",
    "Tfidf ngram2 f1_score is 0.6974093796857893\n",
    "Tfidf ngram2 accuracy is 0.7006666666666667\n",
    "0.4\n",
    "Tfidf ngram2 f1_score is 0.698566213517513\n",
    "Tfidf ngram2 accuracy is 0.7016666666666667\n",
    "0.45\n",
    "Tfidf ngram2 f1_score is 0.6991832045205303\n",
    "Tfidf ngram2 accuracy is 0.7023333333333334\n",
    "0.5\n",
    "Tfidf ngram2 f1_score is 0.6988528321133809\n",
    "Tfidf ngram2 accuracy is 0.702\n",
    "0.6\n",
    "Tfidf ngram2 f1_score is 0.6987096514753162\n",
    "Tfidf ngram2 accuracy is 0.702\n",
    "0.7\n",
    "Tfidf ngram2 f1_score is 0.6978413908116609\n",
    "Tfidf ngram2 accuracy is 0.7013333333333334\n",
    "0.8\n",
    "Tfidf ngram2 f1_score is 0.6960006445411058\n",
    "Tfidf ngram2 accuracy is 0.6996666666666667\n",
    "0.9 \n",
    "Tfidf ngram2 f1_score is 0.6948857836771832\n",
    "Tfidf ngram2 accuracy is 0.6986666666666667\n",
    "1.0\n",
    "Tfidf ngram2 f1_score is 0.69442532067018\n",
    "Tfidf ngram2 accuracy is 0.6983333333333334\n",
    "2.0\n",
    "Tfidf ngram2 f1_score is 0.663420089611259\n",
    "Tfidf ngram2 accuracy is 0.673\n",
    "3.0\n",
    "Tfidf ngram2 f1_score is 0.6361571109560435\n",
    "Tfidf ngram2 accuracy is 0.655\n",
    "'''"
   ]
  },
  {
   "cell_type": "code",
   "execution_count": 261,
   "id": "a019bed6",
   "metadata": {},
   "outputs": [
    {
     "name": "stdout",
     "output_type": "stream",
     "text": [
      "              precision    recall  f1-score   support\n",
      "\n",
      "           0      0.644     0.687     0.665       750\n",
      "           1      0.724     0.507     0.596       750\n",
      "           2      0.633     0.829     0.718       750\n",
      "           3      0.853     0.787     0.818       750\n",
      "\n",
      "    accuracy                          0.702      3000\n",
      "   macro avg      0.713     0.702     0.699      3000\n",
      "weighted avg      0.713     0.702     0.699      3000\n",
      "\n"
     ]
    }
   ],
   "source": [
    "##alpha = 0.45\n",
    "print(classification_report(best_y_test, best_y_pred, digits=3))"
   ]
  },
  {
   "cell_type": "code",
   "execution_count": null,
   "id": "83719fd4",
   "metadata": {},
   "outputs": [],
   "source": [
    "##Findings\n",
    "##f1-score relatively high for label 3, means that naive bayes models the reliable news very well.\n",
    "##f1-score for others relatively low as it cant differentiate well between the types of fake news\n",
    "##f1 score for label 2 is a higher than the others since it is the majority label."
   ]
  }
 ],
 "metadata": {
  "kernelspec": {
   "display_name": "Python 3 (ipykernel)",
   "language": "python",
   "name": "python3"
  },
  "language_info": {
   "codemirror_mode": {
    "name": "ipython",
    "version": 3
   },
   "file_extension": ".py",
   "mimetype": "text/x-python",
   "name": "python",
   "nbconvert_exporter": "python",
   "pygments_lexer": "ipython3",
   "version": "3.9.7"
  }
 },
 "nbformat": 4,
 "nbformat_minor": 5
}
